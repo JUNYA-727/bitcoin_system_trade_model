{
  "nbformat": 4,
  "nbformat_minor": 0,
  "metadata": {
    "colab": {
      "name": "bitcoin_model.ipynb",
      "provenance": [],
      "collapsed_sections": [],
      "mount_file_id": "1cQt4oC-nBbYPns7uK596koaY4EVHxzVU",
      "authorship_tag": "ABX9TyMAPliYdYC/Oe4k6BBQKD2P",
      "include_colab_link": true
    },
    "kernelspec": {
      "name": "python3",
      "display_name": "Python 3"
    },
    "language_info": {
      "name": "python"
    }
  },
  "cells": [
    {
      "cell_type": "markdown",
      "metadata": {
        "id": "view-in-github",
        "colab_type": "text"
      },
      "source": [
        "<a href=\"https://colab.research.google.com/github/JUNYA-727/bitcoin_system_trading/blob/main/bitcoin_model.ipynb\" target=\"_parent\"><img src=\"https://colab.research.google.com/assets/colab-badge.svg\" alt=\"Open In Colab\"/></a>"
      ]
    },
    {
      "cell_type": "markdown",
      "metadata": {
        "id": "Ce3veSBjru9a"
      },
      "source": [
        "**ビットコインを自動売買のモデルで作成する。**\n",
        "\n",
        "**APIを使って自動売買を行う前に、シミュレーションを行って勝率、利益を考えてみる。**\n",
        "*   特徴量はTa-LIbをテクニカル指標を導入する。\n",
        "*   TensorflowのLSTM、パラメーター最適化Optunaを加えたLightGBMのこれら2つを使って比較を行い、最も高い勝率、利益率のモデルを自動売買のアルゴリズムとして導入を検討する。\n",
        "\n",
        "\n"
      ]
    },
    {
      "cell_type": "code",
      "metadata": {
        "id": "IPqZOLTIt31B"
      },
      "source": [
        "#特徴量として使用するテクニカル指標の計算のライブラリ\n",
        "!wget http://prdownloads.sourceforge.net/ta-lib/ta-lib-0.4.0-src.tar.gz\n",
        "!tar -xzvf ta-lib-0.4.0-src.tar.gz\n",
        "%cd ta-lib\n",
        "!./configure --prefix=/usr\n",
        "!make\n",
        "!make install\n",
        "!pip install Ta-Lib"
      ],
      "execution_count": null,
      "outputs": []
    },
    {
      "cell_type": "code",
      "metadata": {
        "id": "lWtXGPvlrrgp"
      },
      "source": [
        "import pandas as pd\n",
        "import talib\n",
        "import matplotlib.pyplot as plt\n",
        "import numpy as np"
      ],
      "execution_count": 62,
      "outputs": []
    },
    {
      "cell_type": "markdown",
      "metadata": {
        "id": "4_U7NRZEvROe"
      },
      "source": [
        "### データは時系列に並べており、左のコラムから[時間、始値、高値、安値、終値、出来高]\n",
        "### 短期売買を目的としているため、今回は15分ごとのデータから予測を行う"
      ]
    },
    {
      "cell_type": "markdown",
      "metadata": {
        "id": "qSg8Z_d7nE3f"
      },
      "source": [
        "**データの内容はBTC/USDで15分足のcsvファイル**\n",
        "\n",
        "**左のコラムから､時間､始値､高値､安値､終値､出来高に並んでいる**\n"
      ]
    },
    {
      "cell_type": "markdown",
      "metadata": {
        "id": "789sYS4Nn7oc"
      },
      "source": [
        "# データの基礎的な処理から､特徴量となるテクニカル指標を加えるまで"
      ]
    },
    {
      "cell_type": "code",
      "metadata": {
        "colab": {
          "base_uri": "https://localhost:8080/",
          "height": 363
        },
        "id": "GU7VNPNyuz_V",
        "outputId": "acfcb634-bbcf-4466-c396-2a8d654cabd2"
      },
      "source": [
        "df=pd.read_csv('/content/drive/MyDrive/btc 9月12日-11月26日.csv')\n",
        "df.head(10)"
      ],
      "execution_count": 63,
      "outputs": [
        {
          "output_type": "execute_result",
          "data": {
            "text/html": [
              "<div>\n",
              "<style scoped>\n",
              "    .dataframe tbody tr th:only-of-type {\n",
              "        vertical-align: middle;\n",
              "    }\n",
              "\n",
              "    .dataframe tbody tr th {\n",
              "        vertical-align: top;\n",
              "    }\n",
              "\n",
              "    .dataframe thead th {\n",
              "        text-align: right;\n",
              "    }\n",
              "</style>\n",
              "<table border=\"1\" class=\"dataframe\">\n",
              "  <thead>\n",
              "    <tr style=\"text-align: right;\">\n",
              "      <th></th>\n",
              "      <th>2021-09-12 14:45:00</th>\n",
              "      <th>45853.99</th>\n",
              "      <th>45857.72</th>\n",
              "      <th>45842.03</th>\n",
              "      <th>45857.72.1</th>\n",
              "      <th>0.8006</th>\n",
              "    </tr>\n",
              "  </thead>\n",
              "  <tbody>\n",
              "    <tr>\n",
              "      <th>0</th>\n",
              "      <td>2021-09-12 15:00:00</td>\n",
              "      <td>45896.18</td>\n",
              "      <td>45896.18</td>\n",
              "      <td>45819.53</td>\n",
              "      <td>45819.53</td>\n",
              "      <td>0.500400</td>\n",
              "    </tr>\n",
              "    <tr>\n",
              "      <th>1</th>\n",
              "      <td>2021-09-12 15:15:00</td>\n",
              "      <td>45813.99</td>\n",
              "      <td>45813.99</td>\n",
              "      <td>45813.99</td>\n",
              "      <td>45813.99</td>\n",
              "      <td>0.010000</td>\n",
              "    </tr>\n",
              "    <tr>\n",
              "      <th>2</th>\n",
              "      <td>2021-09-12 15:45:00</td>\n",
              "      <td>45834.92</td>\n",
              "      <td>45834.92</td>\n",
              "      <td>45747.05</td>\n",
              "      <td>45747.05</td>\n",
              "      <td>1.760000</td>\n",
              "    </tr>\n",
              "    <tr>\n",
              "      <th>3</th>\n",
              "      <td>2021-09-12 16:00:00</td>\n",
              "      <td>45807.04</td>\n",
              "      <td>45881.14</td>\n",
              "      <td>45807.04</td>\n",
              "      <td>45881.14</td>\n",
              "      <td>0.018020</td>\n",
              "    </tr>\n",
              "    <tr>\n",
              "      <th>4</th>\n",
              "      <td>2021-09-12 16:15:00</td>\n",
              "      <td>45881.14</td>\n",
              "      <td>45881.14</td>\n",
              "      <td>45881.14</td>\n",
              "      <td>45881.14</td>\n",
              "      <td>1.278035</td>\n",
              "    </tr>\n",
              "    <tr>\n",
              "      <th>5</th>\n",
              "      <td>2021-09-12 16:30:00</td>\n",
              "      <td>45912.12</td>\n",
              "      <td>45915.42</td>\n",
              "      <td>45912.12</td>\n",
              "      <td>45915.42</td>\n",
              "      <td>0.800800</td>\n",
              "    </tr>\n",
              "    <tr>\n",
              "      <th>6</th>\n",
              "      <td>2021-09-12 16:45:00</td>\n",
              "      <td>45915.42</td>\n",
              "      <td>45932.63</td>\n",
              "      <td>45915.42</td>\n",
              "      <td>45932.62</td>\n",
              "      <td>1.213700</td>\n",
              "    </tr>\n",
              "    <tr>\n",
              "      <th>7</th>\n",
              "      <td>2021-09-12 18:30:00</td>\n",
              "      <td>45744.99</td>\n",
              "      <td>45744.99</td>\n",
              "      <td>45744.99</td>\n",
              "      <td>45744.99</td>\n",
              "      <td>0.308548</td>\n",
              "    </tr>\n",
              "    <tr>\n",
              "      <th>8</th>\n",
              "      <td>2021-09-12 19:45:00</td>\n",
              "      <td>45841.83</td>\n",
              "      <td>45845.67</td>\n",
              "      <td>45841.83</td>\n",
              "      <td>45845.67</td>\n",
              "      <td>0.152000</td>\n",
              "    </tr>\n",
              "    <tr>\n",
              "      <th>9</th>\n",
              "      <td>2021-09-12 20:15:00</td>\n",
              "      <td>45935.70</td>\n",
              "      <td>45935.70</td>\n",
              "      <td>45935.70</td>\n",
              "      <td>45935.70</td>\n",
              "      <td>0.400400</td>\n",
              "    </tr>\n",
              "  </tbody>\n",
              "</table>\n",
              "</div>"
            ],
            "text/plain": [
              "   2021-09-12 14:45:00  45853.99  45857.72  45842.03  45857.72.1    0.8006\n",
              "0  2021-09-12 15:00:00  45896.18  45896.18  45819.53    45819.53  0.500400\n",
              "1  2021-09-12 15:15:00  45813.99  45813.99  45813.99    45813.99  0.010000\n",
              "2  2021-09-12 15:45:00  45834.92  45834.92  45747.05    45747.05  1.760000\n",
              "3  2021-09-12 16:00:00  45807.04  45881.14  45807.04    45881.14  0.018020\n",
              "4  2021-09-12 16:15:00  45881.14  45881.14  45881.14    45881.14  1.278035\n",
              "5  2021-09-12 16:30:00  45912.12  45915.42  45912.12    45915.42  0.800800\n",
              "6  2021-09-12 16:45:00  45915.42  45932.63  45915.42    45932.62  1.213700\n",
              "7  2021-09-12 18:30:00  45744.99  45744.99  45744.99    45744.99  0.308548\n",
              "8  2021-09-12 19:45:00  45841.83  45845.67  45841.83    45845.67  0.152000\n",
              "9  2021-09-12 20:15:00  45935.70  45935.70  45935.70    45935.70  0.400400"
            ]
          },
          "metadata": {},
          "execution_count": 63
        }
      ]
    },
    {
      "cell_type": "code",
      "metadata": {
        "id": "N_86UZ_ovldu"
      },
      "source": [
        "#今回は終値だけに注目して使用する。\n",
        "df1=df.iloc[0:,4:5]\n",
        "df1.columns=['price']"
      ],
      "execution_count": 64,
      "outputs": []
    },
    {
      "cell_type": "code",
      "metadata": {
        "colab": {
          "base_uri": "https://localhost:8080/",
          "height": 143
        },
        "id": "mtc3a-wFxxJ8",
        "outputId": "c2ef959d-ae0e-4e73-c166-5710c8386f91"
      },
      "source": [
        "df1.head(3)"
      ],
      "execution_count": 65,
      "outputs": [
        {
          "output_type": "execute_result",
          "data": {
            "text/html": [
              "<div>\n",
              "<style scoped>\n",
              "    .dataframe tbody tr th:only-of-type {\n",
              "        vertical-align: middle;\n",
              "    }\n",
              "\n",
              "    .dataframe tbody tr th {\n",
              "        vertical-align: top;\n",
              "    }\n",
              "\n",
              "    .dataframe thead th {\n",
              "        text-align: right;\n",
              "    }\n",
              "</style>\n",
              "<table border=\"1\" class=\"dataframe\">\n",
              "  <thead>\n",
              "    <tr style=\"text-align: right;\">\n",
              "      <th></th>\n",
              "      <th>price</th>\n",
              "    </tr>\n",
              "  </thead>\n",
              "  <tbody>\n",
              "    <tr>\n",
              "      <th>0</th>\n",
              "      <td>45819.53</td>\n",
              "    </tr>\n",
              "    <tr>\n",
              "      <th>1</th>\n",
              "      <td>45813.99</td>\n",
              "    </tr>\n",
              "    <tr>\n",
              "      <th>2</th>\n",
              "      <td>45747.05</td>\n",
              "    </tr>\n",
              "  </tbody>\n",
              "</table>\n",
              "</div>"
            ],
            "text/plain": [
              "      price\n",
              "0  45819.53\n",
              "1  45813.99\n",
              "2  45747.05"
            ]
          },
          "metadata": {},
          "execution_count": 65
        }
      ]
    },
    {
      "cell_type": "code",
      "metadata": {
        "id": "1CgXRVCwv827"
      },
      "source": [
        "#特徴量の追加\n",
        "#特徴量はボリンジャーバンド、SMA、RSI、MACDを使用する。\n",
        "df1['sma20']=talib.SMA(df1['price'],timeperiod=20)\n",
        "up,middle,low=talib.BBANDS(df1['price'],timeperiod=20,nbdevdn=3,nbdevup=3,matype=0)\n",
        "df1['bb_up']=up\n",
        "df1['bb_low']=low"
      ],
      "execution_count": 66,
      "outputs": []
    },
    {
      "cell_type": "code",
      "metadata": {
        "colab": {
          "base_uri": "https://localhost:8080/",
          "height": 334
        },
        "id": "5da_Hyy7zmps",
        "outputId": "f7892c64-93a9-48b7-a559-e164dc758543"
      },
      "source": [
        "plt.plot(df1[5800:])"
      ],
      "execution_count": 67,
      "outputs": [
        {
          "output_type": "execute_result",
          "data": {
            "text/plain": [
              "[<matplotlib.lines.Line2D at 0x7faaa79e9450>,\n",
              " <matplotlib.lines.Line2D at 0x7faa98b88110>,\n",
              " <matplotlib.lines.Line2D at 0x7faa98b88d90>,\n",
              " <matplotlib.lines.Line2D at 0x7faa98b886d0>]"
            ]
          },
          "metadata": {},
          "execution_count": 67
        },
        {
          "output_type": "display_data",
          "data": {
            "image/png": "[encoded data removed]",
            "text/plain": [
              "<Figure size 432x288 with 1 Axes>"
            ]
          },
          "metadata": {
            "needs_background": "light"
          }
        }
      ]
    },
    {
      "cell_type": "code",
      "metadata": {
        "id": "JxgTYOfQ0IGu"
      },
      "source": [
        "macd,macdsignal,macdhist=talib.MACD(df1['price'],fastperiod=12,slowperiod=26,signalperiod=9)\n",
        "df1['macd']=macd\n",
        "df1['macdsignal']=macdsignal\n",
        "df1['macdhist']=macdhist\n",
        "df1['rsi9']=talib.RSI(df1['price'],timeperiod=9)\n",
        "df1['rsi14']=talib.RSI(df1['price'],timeperiod=14)"
      ],
      "execution_count": 68,
      "outputs": []
    },
    {
      "cell_type": "code",
      "metadata": {
        "id": "oAE4T5nJ1CCW"
      },
      "source": [
        "df2=df1[33:].reset_index(drop=True)"
      ],
      "execution_count": 69,
      "outputs": []
    },
    {
      "cell_type": "code",
      "metadata": {
        "colab": {
          "base_uri": "https://localhost:8080/",
          "height": 143
        },
        "id": "YNip57DA1c3K",
        "outputId": "1cb506b7-a404-4cc5-bd69-55d5c3aa0f36"
      },
      "source": [
        "df2.head(3)"
      ],
      "execution_count": 70,
      "outputs": [
        {
          "output_type": "execute_result",
          "data": {
            "text/html": [
              "<div>\n",
              "<style scoped>\n",
              "    .dataframe tbody tr th:only-of-type {\n",
              "        vertical-align: middle;\n",
              "    }\n",
              "\n",
              "    .dataframe tbody tr th {\n",
              "        vertical-align: top;\n",
              "    }\n",
              "\n",
              "    .dataframe thead th {\n",
              "        text-align: right;\n",
              "    }\n",
              "</style>\n",
              "<table border=\"1\" class=\"dataframe\">\n",
              "  <thead>\n",
              "    <tr style=\"text-align: right;\">\n",
              "      <th></th>\n",
              "      <th>price</th>\n",
              "      <th>sma20</th>\n",
              "      <th>bb_up</th>\n",
              "      <th>bb_low</th>\n",
              "      <th>macd</th>\n",
              "      <th>macdsignal</th>\n",
              "      <th>macdhist</th>\n",
              "      <th>rsi9</th>\n",
              "      <th>rsi14</th>\n",
              "    </tr>\n",
              "  </thead>\n",
              "  <tbody>\n",
              "    <tr>\n",
              "      <th>0</th>\n",
              "      <td>44965.86</td>\n",
              "      <td>45390.5885</td>\n",
              "      <td>46470.316081</td>\n",
              "      <td>44310.860919</td>\n",
              "      <td>-183.907162</td>\n",
              "      <td>-124.689976</td>\n",
              "      <td>-59.217186</td>\n",
              "      <td>34.422632</td>\n",
              "      <td>37.051169</td>\n",
              "    </tr>\n",
              "    <tr>\n",
              "      <th>1</th>\n",
              "      <td>44654.39</td>\n",
              "      <td>45350.6455</td>\n",
              "      <td>46531.145587</td>\n",
              "      <td>44170.145413</td>\n",
              "      <td>-212.402074</td>\n",
              "      <td>-142.232396</td>\n",
              "      <td>-70.169679</td>\n",
              "      <td>25.696322</td>\n",
              "      <td>31.249201</td>\n",
              "    </tr>\n",
              "    <tr>\n",
              "      <th>2</th>\n",
              "      <td>44529.61</td>\n",
              "      <td>45298.9325</td>\n",
              "      <td>46584.388807</td>\n",
              "      <td>44013.476193</td>\n",
              "      <td>-242.260572</td>\n",
              "      <td>-162.238031</td>\n",
              "      <td>-80.022541</td>\n",
              "      <td>23.061477</td>\n",
              "      <td>29.271623</td>\n",
              "    </tr>\n",
              "  </tbody>\n",
              "</table>\n",
              "</div>"
            ],
            "text/plain": [
              "      price       sma20         bb_up  ...   macdhist       rsi9      rsi14\n",
              "0  44965.86  45390.5885  46470.316081  ... -59.217186  34.422632  37.051169\n",
              "1  44654.39  45350.6455  46531.145587  ... -70.169679  25.696322  31.249201\n",
              "2  44529.61  45298.9325  46584.388807  ... -80.022541  23.061477  29.271623\n",
              "\n",
              "[3 rows x 9 columns]"
            ]
          },
          "metadata": {},
          "execution_count": 70
        }
      ]
    },
    {
      "cell_type": "code",
      "metadata": {
        "id": "DEzXraAAWOeY"
      },
      "source": [
        "df3=df2[['price']]"
      ],
      "execution_count": 71,
      "outputs": []
    },
    {
      "cell_type": "code",
      "metadata": {
        "id": "zSvMfTOx5zsc"
      },
      "source": [
        "df4=df2[1:].reset_index(drop=True)"
      ],
      "execution_count": 72,
      "outputs": []
    },
    {
      "cell_type": "code",
      "metadata": {
        "colab": {
          "base_uri": "https://localhost:8080/",
          "height": 143
        },
        "id": "mnYfXV0G6Ve-",
        "outputId": "20331d23-a26c-4db2-ebc4-d44b0aa15612"
      },
      "source": [
        "df4.head(3)"
      ],
      "execution_count": 73,
      "outputs": [
        {
          "output_type": "execute_result",
          "data": {
            "text/html": [
              "<div>\n",
              "<style scoped>\n",
              "    .dataframe tbody tr th:only-of-type {\n",
              "        vertical-align: middle;\n",
              "    }\n",
              "\n",
              "    .dataframe tbody tr th {\n",
              "        vertical-align: top;\n",
              "    }\n",
              "\n",
              "    .dataframe thead th {\n",
              "        text-align: right;\n",
              "    }\n",
              "</style>\n",
              "<table border=\"1\" class=\"dataframe\">\n",
              "  <thead>\n",
              "    <tr style=\"text-align: right;\">\n",
              "      <th></th>\n",
              "      <th>price</th>\n",
              "      <th>sma20</th>\n",
              "      <th>bb_up</th>\n",
              "      <th>bb_low</th>\n",
              "      <th>macd</th>\n",
              "      <th>macdsignal</th>\n",
              "      <th>macdhist</th>\n",
              "      <th>rsi9</th>\n",
              "      <th>rsi14</th>\n",
              "    </tr>\n",
              "  </thead>\n",
              "  <tbody>\n",
              "    <tr>\n",
              "      <th>0</th>\n",
              "      <td>44654.39</td>\n",
              "      <td>45350.6455</td>\n",
              "      <td>46531.145587</td>\n",
              "      <td>44170.145413</td>\n",
              "      <td>-212.402074</td>\n",
              "      <td>-142.232396</td>\n",
              "      <td>-70.169679</td>\n",
              "      <td>25.696322</td>\n",
              "      <td>31.249201</td>\n",
              "    </tr>\n",
              "    <tr>\n",
              "      <th>1</th>\n",
              "      <td>44529.61</td>\n",
              "      <td>45298.9325</td>\n",
              "      <td>46584.388807</td>\n",
              "      <td>44013.476193</td>\n",
              "      <td>-242.260572</td>\n",
              "      <td>-162.238031</td>\n",
              "      <td>-80.022541</td>\n",
              "      <td>23.061477</td>\n",
              "      <td>29.271623</td>\n",
              "    </tr>\n",
              "    <tr>\n",
              "      <th>2</th>\n",
              "      <td>44637.84</td>\n",
              "      <td>45262.3665</td>\n",
              "      <td>46616.919708</td>\n",
              "      <td>43907.813292</td>\n",
              "      <td>-254.259446</td>\n",
              "      <td>-180.642314</td>\n",
              "      <td>-73.617132</td>\n",
              "      <td>30.059392</td>\n",
              "      <td>33.219226</td>\n",
              "    </tr>\n",
              "  </tbody>\n",
              "</table>\n",
              "</div>"
            ],
            "text/plain": [
              "      price       sma20         bb_up  ...   macdhist       rsi9      rsi14\n",
              "0  44654.39  45350.6455  46531.145587  ... -70.169679  25.696322  31.249201\n",
              "1  44529.61  45298.9325  46584.388807  ... -80.022541  23.061477  29.271623\n",
              "2  44637.84  45262.3665  46616.919708  ... -73.617132  30.059392  33.219226\n",
              "\n",
              "[3 rows x 9 columns]"
            ]
          },
          "metadata": {},
          "execution_count": 73
        }
      ]
    },
    {
      "cell_type": "markdown",
      "metadata": {
        "id": "LpCqrycxoH_6"
      },
      "source": [
        "# データのラベル付けから､Tensorflowで学習するところまで\n",
        "**主にラベル付けは0:stay(エントリーしていたら保有､していない状態がエントリーしない)､1:sell(売り注文)､2:buy(買い注文)の3パターン**\n",
        "\n",
        "**比較として0:sell,1:buyの2パターンと利益の大きさを比べる**\n",
        "\n",
        "\n"
      ]
    },
    {
      "cell_type": "code",
      "metadata": {
        "id": "hHwGwFQYXFyy"
      },
      "source": [
        "#選択肢としてsell,stay,buyの3つを正解ラベルとして与える。\n",
        "price=np.array(df3['price'])\n",
        "PRICE=[]\n",
        "sell=[]\n",
        "stay=[]\n",
        "buy=[]\n",
        "for i in range(len(price)-1):\n",
        "  new=price[i+1]-price[i]\n",
        "  PRICE.append(new)\n",
        "  if -10.0<=new<=10.0:\n",
        "    stay.append(1)\n",
        "    sell.append(0)\n",
        "    buy.append(0)\n",
        "    continue\n",
        "  elif new<-10.0:\n",
        "    stay.append(0)\n",
        "    sell.append(1)\n",
        "    buy.append(0)\n",
        "    continue\n",
        "  elif 10.0<new:\n",
        "    stay.append(0)\n",
        "    sell.append(0)\n",
        "    buy.append(1)\n",
        "    continue"
      ],
      "execution_count": 74,
      "outputs": []
    },
    {
      "cell_type": "code",
      "metadata": {
        "id": "fhQ8hZgx6ZVi"
      },
      "source": [
        "df4.insert(0,'stay',stay)\n",
        "df4.insert(1,'sell',sell)\n",
        "df4.insert(2,'buy',buy)"
      ],
      "execution_count": 75,
      "outputs": []
    },
    {
      "cell_type": "code",
      "metadata": {
        "colab": {
          "base_uri": "https://localhost:8080/",
          "height": 143
        },
        "id": "Kxutv4M96xJl",
        "outputId": "a787946d-2f87-486b-d6c1-7f64c033588a"
      },
      "source": [
        "df4.head(3)"
      ],
      "execution_count": 76,
      "outputs": [
        {
          "output_type": "execute_result",
          "data": {
            "text/html": [
              "<div>\n",
              "<style scoped>\n",
              "    .dataframe tbody tr th:only-of-type {\n",
              "        vertical-align: middle;\n",
              "    }\n",
              "\n",
              "    .dataframe tbody tr th {\n",
              "        vertical-align: top;\n",
              "    }\n",
              "\n",
              "    .dataframe thead th {\n",
              "        text-align: right;\n",
              "    }\n",
              "</style>\n",
              "<table border=\"1\" class=\"dataframe\">\n",
              "  <thead>\n",
              "    <tr style=\"text-align: right;\">\n",
              "      <th></th>\n",
              "      <th>stay</th>\n",
              "      <th>sell</th>\n",
              "      <th>buy</th>\n",
              "      <th>price</th>\n",
              "      <th>sma20</th>\n",
              "      <th>bb_up</th>\n",
              "      <th>bb_low</th>\n",
              "      <th>macd</th>\n",
              "      <th>macdsignal</th>\n",
              "      <th>macdhist</th>\n",
              "      <th>rsi9</th>\n",
              "      <th>rsi14</th>\n",
              "    </tr>\n",
              "  </thead>\n",
              "  <tbody>\n",
              "    <tr>\n",
              "      <th>0</th>\n",
              "      <td>0</td>\n",
              "      <td>1</td>\n",
              "      <td>0</td>\n",
              "      <td>44654.39</td>\n",
              "      <td>45350.6455</td>\n",
              "      <td>46531.145587</td>\n",
              "      <td>44170.145413</td>\n",
              "      <td>-212.402074</td>\n",
              "      <td>-142.232396</td>\n",
              "      <td>-70.169679</td>\n",
              "      <td>25.696322</td>\n",
              "      <td>31.249201</td>\n",
              "    </tr>\n",
              "    <tr>\n",
              "      <th>1</th>\n",
              "      <td>0</td>\n",
              "      <td>1</td>\n",
              "      <td>0</td>\n",
              "      <td>44529.61</td>\n",
              "      <td>45298.9325</td>\n",
              "      <td>46584.388807</td>\n",
              "      <td>44013.476193</td>\n",
              "      <td>-242.260572</td>\n",
              "      <td>-162.238031</td>\n",
              "      <td>-80.022541</td>\n",
              "      <td>23.061477</td>\n",
              "      <td>29.271623</td>\n",
              "    </tr>\n",
              "    <tr>\n",
              "      <th>2</th>\n",
              "      <td>0</td>\n",
              "      <td>0</td>\n",
              "      <td>1</td>\n",
              "      <td>44637.84</td>\n",
              "      <td>45262.3665</td>\n",
              "      <td>46616.919708</td>\n",
              "      <td>43907.813292</td>\n",
              "      <td>-254.259446</td>\n",
              "      <td>-180.642314</td>\n",
              "      <td>-73.617132</td>\n",
              "      <td>30.059392</td>\n",
              "      <td>33.219226</td>\n",
              "    </tr>\n",
              "  </tbody>\n",
              "</table>\n",
              "</div>"
            ],
            "text/plain": [
              "   stay  sell  buy     price  ...  macdsignal   macdhist       rsi9      rsi14\n",
              "0     0     1    0  44654.39  ... -142.232396 -70.169679  25.696322  31.249201\n",
              "1     0     1    0  44529.61  ... -162.238031 -80.022541  23.061477  29.271623\n",
              "2     0     0    1  44637.84  ... -180.642314 -73.617132  30.059392  33.219226\n",
              "\n",
              "[3 rows x 12 columns]"
            ]
          },
          "metadata": {},
          "execution_count": 76
        }
      ]
    },
    {
      "cell_type": "code",
      "metadata": {
        "id": "IJh0_gYt1qfj"
      },
      "source": [
        "def create_window(window_size,split_size,df):\n",
        "  train=[]\n",
        "  test=[]\n",
        "\n",
        "  price=np.array(df['price'])\n",
        "  sma20=np.array(df['sma20'])\n",
        "  bb_up=np.array(df['bb_up'])\n",
        "  bb_low=np.array(df['bb_low'])\n",
        "  macd=np.array(df['macd'])\n",
        "  macdsignal=np.array(df['macdsignal'])\n",
        "  macdhist=np.array(df['macdhist'])\n",
        "  rsi9=np.array(df['rsi9'])\n",
        "  rsi14=np.array(df['rsi14'])\n",
        "\n",
        "  stay=np.array(df['stay'])\n",
        "  sell=np.array(df['sell'])\n",
        "  buy=np.array(df['buy'])\n",
        "  len_data=len(df['price'])\n",
        "\n",
        "  for i in range(len_data-window_size):\n",
        "    t=[]\n",
        "    t.append(price[i:i+window_size])\n",
        "    t.append(sma20[i:i+window_size])\n",
        "    t.append(bb_up[i:i+window_size])\n",
        "    t.append(bb_low[i:i+window_size])\n",
        "    t.append(macd[i:i+window_size])\n",
        "    t.append(macdsignal[i:i+window_size])\n",
        "    t.append(macdhist[i:i+window_size])\n",
        "    t.append(rsi9[i:i+window_size])\n",
        "    t.append(rsi14[i:i+window_size])\n",
        "    train.append(t)\n",
        "    ans=[]\n",
        "    ans.append(stay[i+window_size])\n",
        "    ans.append(sell[i+window_size])\n",
        "    ans.append(buy[i+window_size])\n",
        "    test.append(ans)\n",
        "  x_train,x_test=train[:int(len_data*split_size)],train[int(len_data*split_size):]\n",
        "  y_train,y_test=test[:int(len_data*split_size)],test[int(len_data*split_size):]\n",
        "  x_train=np.array(x_train)\n",
        "  x_test=np.array(x_test)\n",
        "  y_train=np.array(y_train)\n",
        "  y_test=np.array(y_test)\n",
        "  return x_train,x_test,y_train,y_test"
      ],
      "execution_count": 77,
      "outputs": []
    },
    {
      "cell_type": "code",
      "metadata": {
        "id": "sqjQHuNf6Gd1"
      },
      "source": [
        "x_train,x_test,y_train,y_test=create_window(5,0.8,df4)"
      ],
      "execution_count": 78,
      "outputs": []
    },
    {
      "cell_type": "code",
      "metadata": {
        "colab": {
          "base_uri": "https://localhost:8080/",
          "height": 424
        },
        "id": "kyU3n081ZE_F",
        "outputId": "97196609-5c6b-4224-9f26-4b69bcd63da4"
      },
      "source": [
        "df4"
      ],
      "execution_count": 79,
      "outputs": [
        {
          "output_type": "execute_result",
          "data": {
            "text/html": [
              "<div>\n",
              "<style scoped>\n",
              "    .dataframe tbody tr th:only-of-type {\n",
              "        vertical-align: middle;\n",
              "    }\n",
              "\n",
              "    .dataframe tbody tr th {\n",
              "        vertical-align: top;\n",
              "    }\n",
              "\n",
              "    .dataframe thead th {\n",
              "        text-align: right;\n",
              "    }\n",
              "</style>\n",
              "<table border=\"1\" class=\"dataframe\">\n",
              "  <thead>\n",
              "    <tr style=\"text-align: right;\">\n",
              "      <th></th>\n",
              "      <th>stay</th>\n",
              "      <th>sell</th>\n",
              "      <th>buy</th>\n",
              "      <th>price</th>\n",
              "      <th>sma20</th>\n",
              "      <th>bb_up</th>\n",
              "      <th>bb_low</th>\n",
              "      <th>macd</th>\n",
              "      <th>macdsignal</th>\n",
              "      <th>macdhist</th>\n",
              "      <th>rsi9</th>\n",
              "      <th>rsi14</th>\n",
              "    </tr>\n",
              "  </thead>\n",
              "  <tbody>\n",
              "    <tr>\n",
              "      <th>0</th>\n",
              "      <td>0</td>\n",
              "      <td>1</td>\n",
              "      <td>0</td>\n",
              "      <td>44654.39</td>\n",
              "      <td>45350.6455</td>\n",
              "      <td>46531.145587</td>\n",
              "      <td>44170.145413</td>\n",
              "      <td>-212.402074</td>\n",
              "      <td>-142.232396</td>\n",
              "      <td>-70.169679</td>\n",
              "      <td>25.696322</td>\n",
              "      <td>31.249201</td>\n",
              "    </tr>\n",
              "    <tr>\n",
              "      <th>1</th>\n",
              "      <td>0</td>\n",
              "      <td>1</td>\n",
              "      <td>0</td>\n",
              "      <td>44529.61</td>\n",
              "      <td>45298.9325</td>\n",
              "      <td>46584.388807</td>\n",
              "      <td>44013.476193</td>\n",
              "      <td>-242.260572</td>\n",
              "      <td>-162.238031</td>\n",
              "      <td>-80.022541</td>\n",
              "      <td>23.061477</td>\n",
              "      <td>29.271623</td>\n",
              "    </tr>\n",
              "    <tr>\n",
              "      <th>2</th>\n",
              "      <td>0</td>\n",
              "      <td>0</td>\n",
              "      <td>1</td>\n",
              "      <td>44637.84</td>\n",
              "      <td>45262.3665</td>\n",
              "      <td>46616.919708</td>\n",
              "      <td>43907.813292</td>\n",
              "      <td>-254.259446</td>\n",
              "      <td>-180.642314</td>\n",
              "      <td>-73.617132</td>\n",
              "      <td>30.059392</td>\n",
              "      <td>33.219226</td>\n",
              "    </tr>\n",
              "    <tr>\n",
              "      <th>3</th>\n",
              "      <td>0</td>\n",
              "      <td>0</td>\n",
              "      <td>1</td>\n",
              "      <td>44648.80</td>\n",
              "      <td>45215.3260</td>\n",
              "      <td>46606.770612</td>\n",
              "      <td>43823.881388</td>\n",
              "      <td>-259.888427</td>\n",
              "      <td>-196.491537</td>\n",
              "      <td>-63.396890</td>\n",
              "      <td>30.776678</td>\n",
              "      <td>33.623247</td>\n",
              "    </tr>\n",
              "    <tr>\n",
              "      <th>4</th>\n",
              "      <td>0</td>\n",
              "      <td>0</td>\n",
              "      <td>1</td>\n",
              "      <td>44659.13</td>\n",
              "      <td>45167.9625</td>\n",
              "      <td>46577.329451</td>\n",
              "      <td>43758.595549</td>\n",
              "      <td>-260.512861</td>\n",
              "      <td>-209.295801</td>\n",
              "      <td>-51.217059</td>\n",
              "      <td>31.521343</td>\n",
              "      <td>34.028367</td>\n",
              "    </tr>\n",
              "    <tr>\n",
              "      <th>...</th>\n",
              "      <td>...</td>\n",
              "      <td>...</td>\n",
              "      <td>...</td>\n",
              "      <td>...</td>\n",
              "      <td>...</td>\n",
              "      <td>...</td>\n",
              "      <td>...</td>\n",
              "      <td>...</td>\n",
              "      <td>...</td>\n",
              "      <td>...</td>\n",
              "      <td>...</td>\n",
              "      <td>...</td>\n",
              "    </tr>\n",
              "    <tr>\n",
              "      <th>5960</th>\n",
              "      <td>0</td>\n",
              "      <td>0</td>\n",
              "      <td>1</td>\n",
              "      <td>54388.82</td>\n",
              "      <td>54577.5875</td>\n",
              "      <td>55920.551371</td>\n",
              "      <td>53234.623629</td>\n",
              "      <td>-664.554571</td>\n",
              "      <td>-772.072844</td>\n",
              "      <td>107.518273</td>\n",
              "      <td>42.765580</td>\n",
              "      <td>36.770630</td>\n",
              "    </tr>\n",
              "    <tr>\n",
              "      <th>5961</th>\n",
              "      <td>0</td>\n",
              "      <td>0</td>\n",
              "      <td>1</td>\n",
              "      <td>54591.47</td>\n",
              "      <td>54548.6435</td>\n",
              "      <td>55828.480821</td>\n",
              "      <td>53268.806179</td>\n",
              "      <td>-602.005447</td>\n",
              "      <td>-738.059365</td>\n",
              "      <td>136.053918</td>\n",
              "      <td>48.663916</td>\n",
              "      <td>40.998286</td>\n",
              "    </tr>\n",
              "    <tr>\n",
              "      <th>5962</th>\n",
              "      <td>0</td>\n",
              "      <td>0</td>\n",
              "      <td>1</td>\n",
              "      <td>54671.26</td>\n",
              "      <td>54513.3995</td>\n",
              "      <td>55664.673693</td>\n",
              "      <td>53362.125307</td>\n",
              "      <td>-539.774247</td>\n",
              "      <td>-698.402341</td>\n",
              "      <td>158.628094</td>\n",
              "      <td>50.905028</td>\n",
              "      <td>42.624923</td>\n",
              "    </tr>\n",
              "    <tr>\n",
              "      <th>5963</th>\n",
              "      <td>0</td>\n",
              "      <td>0</td>\n",
              "      <td>1</td>\n",
              "      <td>54933.69</td>\n",
              "      <td>54498.9480</td>\n",
              "      <td>55583.674461</td>\n",
              "      <td>53414.221539</td>\n",
              "      <td>-463.931749</td>\n",
              "      <td>-651.508223</td>\n",
              "      <td>187.576473</td>\n",
              "      <td>57.732569</td>\n",
              "      <td>47.729206</td>\n",
              "    </tr>\n",
              "    <tr>\n",
              "      <th>5964</th>\n",
              "      <td>0</td>\n",
              "      <td>1</td>\n",
              "      <td>0</td>\n",
              "      <td>54894.46</td>\n",
              "      <td>54487.8945</td>\n",
              "      <td>55524.642901</td>\n",
              "      <td>53451.146099</td>\n",
              "      <td>-402.353476</td>\n",
              "      <td>-601.677273</td>\n",
              "      <td>199.323797</td>\n",
              "      <td>56.413202</td>\n",
              "      <td>47.055285</td>\n",
              "    </tr>\n",
              "  </tbody>\n",
              "</table>\n",
              "<p>5965 rows × 12 columns</p>\n",
              "</div>"
            ],
            "text/plain": [
              "      stay  sell  buy     price  ...  macdsignal    macdhist       rsi9      rsi14\n",
              "0        0     1    0  44654.39  ... -142.232396  -70.169679  25.696322  31.249201\n",
              "1        0     1    0  44529.61  ... -162.238031  -80.022541  23.061477  29.271623\n",
              "2        0     0    1  44637.84  ... -180.642314  -73.617132  30.059392  33.219226\n",
              "3        0     0    1  44648.80  ... -196.491537  -63.396890  30.776678  33.623247\n",
              "4        0     0    1  44659.13  ... -209.295801  -51.217059  31.521343  34.028367\n",
              "...    ...   ...  ...       ...  ...         ...         ...        ...        ...\n",
              "5960     0     0    1  54388.82  ... -772.072844  107.518273  42.765580  36.770630\n",
              "5961     0     0    1  54591.47  ... -738.059365  136.053918  48.663916  40.998286\n",
              "5962     0     0    1  54671.26  ... -698.402341  158.628094  50.905028  42.624923\n",
              "5963     0     0    1  54933.69  ... -651.508223  187.576473  57.732569  47.729206\n",
              "5964     0     1    0  54894.46  ... -601.677273  199.323797  56.413202  47.055285\n",
              "\n",
              "[5965 rows x 12 columns]"
            ]
          },
          "metadata": {},
          "execution_count": 79
        }
      ]
    },
    {
      "cell_type": "markdown",
      "metadata": {
        "id": "TTsOjQSq9pkI"
      },
      "source": [
        "**TensorFlowのLSTMによる実装**\n",
        "\n",
        "**stayとsellとbuyの選択肢3つを用意した場合**"
      ]
    },
    {
      "cell_type": "code",
      "metadata": {
        "id": "XbZMK_MM_Orq"
      },
      "source": [
        "import tensorflow as tf\n",
        "from tensorflow.keras.layers import Input,LSTM,Dense,BatchNormalization,Dropout\n",
        "from tensorflow.keras.models import Model\n",
        "def create_LSTM_model():\n",
        "  input=Input(shape=(x_train.shape[1],x_train.shape[2]))\n",
        "  x=LSTM(32)(input)\n",
        "  x=BatchNormalization()(x)\n",
        "  x=Dense(16)(x)\n",
        "  x=Dense(8)(x)\n",
        "  output=Dense(y_train.shape[1],activation='softmax')(x)\n",
        "  model=Model(input,output)\n",
        "  return model\n",
        "model1=create_LSTM_model()\n",
        "model1.summary()\n",
        "Adam=tf.keras.optimizers.Adam(learning_rate=0.001)\n",
        "model1.compile(optimizer=Adam,loss='categorical_crossentropy',metrics=['accuracy'])\n",
        "history=model1.fit(x_train,y_train,epochs=500,batch_size=128)"
      ],
      "execution_count": null,
      "outputs": []
    },
    {
      "cell_type": "code",
      "metadata": {
        "colab": {
          "base_uri": "https://localhost:8080/"
        },
        "id": "GbP4GUwbDGvJ",
        "outputId": "cf208030-833d-4605-9361-49b0a4308727"
      },
      "source": [
        "print(len(model1.predict(x_test)))\n",
        "y_test[0]\n",
        "check=[]\n",
        "#testデータで精度の確認\n",
        "ans=model1.predict(x_test)\n",
        "for i in range(len(ans)):\n",
        "  if ans[i][0]>ans[i][1]:\n",
        "    if ans[i][0]>ans[i][2]:\n",
        "      check.append(0)\n",
        "    else:\n",
        "      check.append(2)\n",
        "  else:\n",
        "    if ans[i][1]>ans[i][2]:\n",
        "      check.append(1)\n",
        "    else:\n",
        "      check.append(2)\n",
        "answer=[]\n",
        "for i in range(len(y_test)):\n",
        "  if y_test[i][0]==1:\n",
        "    answer.append(0)\n",
        "  elif y_test[i][1]==1:\n",
        "    answer.append(1)\n",
        "  else:\n",
        "    answer.append(2)\n",
        "game=[]\n",
        "for i in range(len(answer)):\n",
        "  if answer[i]==check[i]:\n",
        "    game.append('win')\n",
        "  else:\n",
        "    game.append('lose')\n",
        "print('予測とテストデータの一致した数:'+str(game.count('win')))\n",
        "print('予測とテストデータの外した数:'+str(game.count('lose')))\n",
        "print('stayを予測した数:'+str(check.count(0))+' sellを予測した数:'+str(check.count(1))+' buyを予測した数:'+str(check.count(2)))\n",
        "print('実際のstayの数:'+str(answer.count(0))+'実際のsellの数:'+str(answer.count(1))+'実際のbuyの数:'+str(answer.count(2)))"
      ],
      "execution_count": 81,
      "outputs": [
        {
          "output_type": "stream",
          "name": "stdout",
          "text": [
            "1188\n",
            "予測とテストデータの一致した数:574\n",
            "予測とテストデータの外した数:614\n",
            "stayを予測した数:50 sellを予測した数:629 buyを予測した数:509\n",
            "実際のstayの数:76実際のsellの数:612実際のbuyの数:500\n"
          ]
        }
      ]
    },
    {
      "cell_type": "code",
      "metadata": {
        "colab": {
          "base_uri": "https://localhost:8080/",
          "height": 295
        },
        "id": "qvi2fDtNUMjh",
        "outputId": "53a514d7-b71b-4a73-cb0a-00d7de5f04e1"
      },
      "source": [
        "#シミュレーションを行う\n",
        "money=[0]\n",
        "profit=0\n",
        "#haveはエントリーしていない、エントリーしている（sellは1,buyは2)を指す。\n",
        "have=0\n",
        "data=0\n",
        "for i in range(len(ans)):\n",
        "  #もっていない状態\n",
        "  if have==0:\n",
        "    #どういう行動を起こすか\n",
        "    #stayなのでエントリーは行わない。\n",
        "    if check[i]==0:\n",
        "      continue\n",
        "    #buyなのでbuyでエントリー\n",
        "    if check[i]==2:\n",
        "      have=2\n",
        "      data=i\n",
        "      continue\n",
        "    #sellなのでsellでエントリー\n",
        "    if check[i]==1:\n",
        "      have=1\n",
        "      data=i\n",
        "      continue\n",
        "  #sellでエントリーしている場合\n",
        "  if have==1:\n",
        "    #もし次がstayかsellだと予測した場合は保有\n",
        "    if (check[i]==0 or check[i]==1):\n",
        "      continue\n",
        "    #もし次がbuyだと予測した場合は決済を行う\n",
        "    if check[i]==2:\n",
        "      profit+=price[data]-price[i]\n",
        "      money.append(profit)\n",
        "      have=0\n",
        "      continue\n",
        "  #buyでエントリーしている場合\n",
        "  if have==2:\n",
        "    #もし次がstayかbuyだと予測した場合は保有を行う\n",
        "    if (check[i]==0 or check[i]==2):\n",
        "      continue\n",
        "    #もし次がsellだと予測した場合は決済を行う\n",
        "    if check[i]==1:\n",
        "      profit+=price[i]-price[data]\n",
        "      money.append(profit)\n",
        "      have=0\n",
        "      continue\n",
        "\n",
        "plt.plot(money)\n",
        "plt.title('LSTM stay or sell or buy')\n",
        "plt.xlabel('time')\n",
        "plt.ylabel('profit')\n",
        "plt.savefig('/content1.png')\n",
        "plt.show()"
      ],
      "execution_count": 82,
      "outputs": [
        {
          "output_type": "display_data",
          "data": {
            "image/png": "[encoded data removed]",
            "text/plain": [
              "<Figure size 432x288 with 1 Axes>"
            ]
          },
          "metadata": {
            "needs_background": "light"
          }
        }
      ]
    },
    {
      "cell_type": "markdown",
      "metadata": {
        "id": "BVHrJCeAJ5Op"
      },
      "source": [
        "**Tensorflow LSTMでsellとbuyの選択肢のみ**"
      ]
    },
    {
      "cell_type": "code",
      "metadata": {
        "colab": {
          "base_uri": "https://localhost:8080/",
          "height": 143
        },
        "id": "ZRgGYjzE_OIR",
        "outputId": "2628bdc5-2071-475c-a57b-11d0b9339028"
      },
      "source": [
        "df2.head(3)"
      ],
      "execution_count": 83,
      "outputs": [
        {
          "output_type": "execute_result",
          "data": {
            "text/html": [
              "<div>\n",
              "<style scoped>\n",
              "    .dataframe tbody tr th:only-of-type {\n",
              "        vertical-align: middle;\n",
              "    }\n",
              "\n",
              "    .dataframe tbody tr th {\n",
              "        vertical-align: top;\n",
              "    }\n",
              "\n",
              "    .dataframe thead th {\n",
              "        text-align: right;\n",
              "    }\n",
              "</style>\n",
              "<table border=\"1\" class=\"dataframe\">\n",
              "  <thead>\n",
              "    <tr style=\"text-align: right;\">\n",
              "      <th></th>\n",
              "      <th>price</th>\n",
              "      <th>sma20</th>\n",
              "      <th>bb_up</th>\n",
              "      <th>bb_low</th>\n",
              "      <th>macd</th>\n",
              "      <th>macdsignal</th>\n",
              "      <th>macdhist</th>\n",
              "      <th>rsi9</th>\n",
              "      <th>rsi14</th>\n",
              "    </tr>\n",
              "  </thead>\n",
              "  <tbody>\n",
              "    <tr>\n",
              "      <th>0</th>\n",
              "      <td>44965.86</td>\n",
              "      <td>45390.5885</td>\n",
              "      <td>46470.316081</td>\n",
              "      <td>44310.860919</td>\n",
              "      <td>-183.907162</td>\n",
              "      <td>-124.689976</td>\n",
              "      <td>-59.217186</td>\n",
              "      <td>34.422632</td>\n",
              "      <td>37.051169</td>\n",
              "    </tr>\n",
              "    <tr>\n",
              "      <th>1</th>\n",
              "      <td>44654.39</td>\n",
              "      <td>45350.6455</td>\n",
              "      <td>46531.145587</td>\n",
              "      <td>44170.145413</td>\n",
              "      <td>-212.402074</td>\n",
              "      <td>-142.232396</td>\n",
              "      <td>-70.169679</td>\n",
              "      <td>25.696322</td>\n",
              "      <td>31.249201</td>\n",
              "    </tr>\n",
              "    <tr>\n",
              "      <th>2</th>\n",
              "      <td>44529.61</td>\n",
              "      <td>45298.9325</td>\n",
              "      <td>46584.388807</td>\n",
              "      <td>44013.476193</td>\n",
              "      <td>-242.260572</td>\n",
              "      <td>-162.238031</td>\n",
              "      <td>-80.022541</td>\n",
              "      <td>23.061477</td>\n",
              "      <td>29.271623</td>\n",
              "    </tr>\n",
              "  </tbody>\n",
              "</table>\n",
              "</div>"
            ],
            "text/plain": [
              "      price       sma20         bb_up  ...   macdhist       rsi9      rsi14\n",
              "0  44965.86  45390.5885  46470.316081  ... -59.217186  34.422632  37.051169\n",
              "1  44654.39  45350.6455  46531.145587  ... -70.169679  25.696322  31.249201\n",
              "2  44529.61  45298.9325  46584.388807  ... -80.022541  23.061477  29.271623\n",
              "\n",
              "[3 rows x 9 columns]"
            ]
          },
          "metadata": {},
          "execution_count": 83
        }
      ]
    },
    {
      "cell_type": "code",
      "metadata": {
        "colab": {
          "base_uri": "https://localhost:8080/",
          "height": 143
        },
        "id": "Vq-QKJa2P1XM",
        "outputId": "c7a26dbb-7177-4fad-a61d-524501df3d51"
      },
      "source": [
        "df3.head(3)"
      ],
      "execution_count": 84,
      "outputs": [
        {
          "output_type": "execute_result",
          "data": {
            "text/html": [
              "<div>\n",
              "<style scoped>\n",
              "    .dataframe tbody tr th:only-of-type {\n",
              "        vertical-align: middle;\n",
              "    }\n",
              "\n",
              "    .dataframe tbody tr th {\n",
              "        vertical-align: top;\n",
              "    }\n",
              "\n",
              "    .dataframe thead th {\n",
              "        text-align: right;\n",
              "    }\n",
              "</style>\n",
              "<table border=\"1\" class=\"dataframe\">\n",
              "  <thead>\n",
              "    <tr style=\"text-align: right;\">\n",
              "      <th></th>\n",
              "      <th>price</th>\n",
              "    </tr>\n",
              "  </thead>\n",
              "  <tbody>\n",
              "    <tr>\n",
              "      <th>0</th>\n",
              "      <td>44965.86</td>\n",
              "    </tr>\n",
              "    <tr>\n",
              "      <th>1</th>\n",
              "      <td>44654.39</td>\n",
              "    </tr>\n",
              "    <tr>\n",
              "      <th>2</th>\n",
              "      <td>44529.61</td>\n",
              "    </tr>\n",
              "  </tbody>\n",
              "</table>\n",
              "</div>"
            ],
            "text/plain": [
              "      price\n",
              "0  44965.86\n",
              "1  44654.39\n",
              "2  44529.61"
            ]
          },
          "metadata": {},
          "execution_count": 84
        }
      ]
    },
    {
      "cell_type": "code",
      "metadata": {
        "id": "yMW2eGAwKVzS"
      },
      "source": [
        "#選択肢としてsell,buyの2つを正解ラベルとして与える。\n",
        "price=np.array(df3['price'])\n",
        "PRICE=[]\n",
        "sell=[]\n",
        "buy=[]\n",
        "for i in range(len(price)-1):\n",
        "  new=price[i+1]-price[i]\n",
        "  PRICE.append(new)\n",
        "  if 0<new:\n",
        "    sell.append(0)\n",
        "    buy.append(1)\n",
        "  else:\n",
        "    sell.append(1)\n",
        "    buy.append(0)\n",
        "df5=df2[1:].reset_index(drop=True)\n",
        "df5.insert(0,'sell',sell)\n",
        "df5.insert(1,'buy',buy)"
      ],
      "execution_count": 85,
      "outputs": []
    },
    {
      "cell_type": "code",
      "metadata": {
        "colab": {
          "base_uri": "https://localhost:8080/",
          "height": 143
        },
        "id": "S2fgA8lbPXoP",
        "outputId": "594d93d0-8327-4d3b-8800-e3f73b8a8bfa"
      },
      "source": [
        "df5.head(3)"
      ],
      "execution_count": 86,
      "outputs": [
        {
          "output_type": "execute_result",
          "data": {
            "text/html": [
              "<div>\n",
              "<style scoped>\n",
              "    .dataframe tbody tr th:only-of-type {\n",
              "        vertical-align: middle;\n",
              "    }\n",
              "\n",
              "    .dataframe tbody tr th {\n",
              "        vertical-align: top;\n",
              "    }\n",
              "\n",
              "    .dataframe thead th {\n",
              "        text-align: right;\n",
              "    }\n",
              "</style>\n",
              "<table border=\"1\" class=\"dataframe\">\n",
              "  <thead>\n",
              "    <tr style=\"text-align: right;\">\n",
              "      <th></th>\n",
              "      <th>sell</th>\n",
              "      <th>buy</th>\n",
              "      <th>price</th>\n",
              "      <th>sma20</th>\n",
              "      <th>bb_up</th>\n",
              "      <th>bb_low</th>\n",
              "      <th>macd</th>\n",
              "      <th>macdsignal</th>\n",
              "      <th>macdhist</th>\n",
              "      <th>rsi9</th>\n",
              "      <th>rsi14</th>\n",
              "    </tr>\n",
              "  </thead>\n",
              "  <tbody>\n",
              "    <tr>\n",
              "      <th>0</th>\n",
              "      <td>1</td>\n",
              "      <td>0</td>\n",
              "      <td>44654.39</td>\n",
              "      <td>45350.6455</td>\n",
              "      <td>46531.145587</td>\n",
              "      <td>44170.145413</td>\n",
              "      <td>-212.402074</td>\n",
              "      <td>-142.232396</td>\n",
              "      <td>-70.169679</td>\n",
              "      <td>25.696322</td>\n",
              "      <td>31.249201</td>\n",
              "    </tr>\n",
              "    <tr>\n",
              "      <th>1</th>\n",
              "      <td>1</td>\n",
              "      <td>0</td>\n",
              "      <td>44529.61</td>\n",
              "      <td>45298.9325</td>\n",
              "      <td>46584.388807</td>\n",
              "      <td>44013.476193</td>\n",
              "      <td>-242.260572</td>\n",
              "      <td>-162.238031</td>\n",
              "      <td>-80.022541</td>\n",
              "      <td>23.061477</td>\n",
              "      <td>29.271623</td>\n",
              "    </tr>\n",
              "    <tr>\n",
              "      <th>2</th>\n",
              "      <td>0</td>\n",
              "      <td>1</td>\n",
              "      <td>44637.84</td>\n",
              "      <td>45262.3665</td>\n",
              "      <td>46616.919708</td>\n",
              "      <td>43907.813292</td>\n",
              "      <td>-254.259446</td>\n",
              "      <td>-180.642314</td>\n",
              "      <td>-73.617132</td>\n",
              "      <td>30.059392</td>\n",
              "      <td>33.219226</td>\n",
              "    </tr>\n",
              "  </tbody>\n",
              "</table>\n",
              "</div>"
            ],
            "text/plain": [
              "   sell  buy     price       sma20  ...  macdsignal   macdhist       rsi9      rsi14\n",
              "0     1    0  44654.39  45350.6455  ... -142.232396 -70.169679  25.696322  31.249201\n",
              "1     1    0  44529.61  45298.9325  ... -162.238031 -80.022541  23.061477  29.271623\n",
              "2     0    1  44637.84  45262.3665  ... -180.642314 -73.617132  30.059392  33.219226\n",
              "\n",
              "[3 rows x 11 columns]"
            ]
          },
          "metadata": {},
          "execution_count": 86
        }
      ]
    },
    {
      "cell_type": "code",
      "metadata": {
        "id": "Hd18rMOEmp9u"
      },
      "source": [
        "def create_window(window_size,split_size,df):\n",
        "  train=[]\n",
        "  test=[]\n",
        "\n",
        "  price=np.array(df['price'])\n",
        "  sma20=np.array(df['sma20'])\n",
        "  bb_up=np.array(df['bb_up'])\n",
        "  bb_low=np.array(df['bb_low'])\n",
        "  macd=np.array(df['macd'])\n",
        "  macdsignal=np.array(df['macdsignal'])\n",
        "  macdhist=np.array(df['macdhist'])\n",
        "  rsi9=np.array(df['rsi9'])\n",
        "  rsi14=np.array(df['rsi14'])\n",
        "\n",
        "  sell=np.array(df['sell'])\n",
        "  buy=np.array(df['buy'])\n",
        "  len_data=len(df['price'])\n",
        "\n",
        "  for i in range(len_data-window_size):\n",
        "    t=[]\n",
        "    t.append(price[i:i+window_size])\n",
        "    t.append(sma20[i:i+window_size])\n",
        "    t.append(bb_up[i:i+window_size])\n",
        "    t.append(bb_low[i:i+window_size])\n",
        "    t.append(macd[i:i+window_size])\n",
        "    t.append(macdsignal[i:i+window_size])\n",
        "    t.append(macdhist[i:i+window_size])\n",
        "    t.append(rsi9[i:i+window_size])\n",
        "    t.append(rsi14[i:i+window_size])\n",
        "    train.append(t)\n",
        "    ans=[]\n",
        "    ans.append(sell[i+window_size])\n",
        "    ans.append(buy[i+window_size])\n",
        "    test.append(ans)\n",
        "  x_train,x_test=train[:int(len_data*split_size)],train[int(len_data*split_size):]\n",
        "  y_train,y_test=test[:int(len_data*split_size)],test[int(len_data*split_size):]\n",
        "  x_train=np.array(x_train)\n",
        "  x_test=np.array(x_test)\n",
        "  y_train=np.array(y_train)\n",
        "  y_test=np.array(y_test)\n",
        "  return x_train,x_test,y_train,y_test"
      ],
      "execution_count": 87,
      "outputs": []
    },
    {
      "cell_type": "code",
      "metadata": {
        "id": "a9UsswBOLZCt"
      },
      "source": [
        "x_train,x_test,y_train,y_test=create_window(5,0.8,df5)"
      ],
      "execution_count": 88,
      "outputs": []
    },
    {
      "cell_type": "code",
      "metadata": {
        "id": "YmjouxkwMylA"
      },
      "source": [
        "model2=create_LSTM_model()\n",
        "model2.summary()\n",
        "Adam=tf.keras.optimizers.Adam(learning_rate=0.001)\n",
        "model2.compile(optimizer=Adam,loss='categorical_crossentropy',metrics=['accuracy'])\n",
        "history=model2.fit(x_train,y_train,epochs=500,batch_size=128)"
      ],
      "execution_count": null,
      "outputs": []
    },
    {
      "cell_type": "code",
      "metadata": {
        "colab": {
          "base_uri": "https://localhost:8080/"
        },
        "id": "2yHmGeDeN02s",
        "outputId": "a9e223b7-421c-4217-e56d-cdd00412c8b2"
      },
      "source": [
        "print(len(model2.predict(x_test)))\n",
        "y_test[0]\n",
        "check=[]\n",
        "#testデータで精度の確認\n",
        "ans=model2.predict(x_test)\n",
        "for i in range(len(ans)):\n",
        "  if ans[i][0]>ans[i][1]:\n",
        "    check.append(0)\n",
        "  else:\n",
        "    check.append(1)\n",
        "answer=[]\n",
        "for i in range(len(y_test)):\n",
        "  if y_test[i][0]==1:\n",
        "    answer.append(0)\n",
        "  else:\n",
        "    answer.append(1)\n",
        "game=[]\n",
        "for i in range(len(answer)):\n",
        "  if answer[i]==check[i]:\n",
        "    game.append('win')\n",
        "  else:\n",
        "    game.append('lose')\n",
        "price=np.array(df5['price'][-(len(y_test)):])\n",
        "print('予測とテストデータの一致した数:'+str(game.count('win')))\n",
        "print('予測とテストデータの外した数:'+str(game.count('lose')))\n",
        "print('sellを予測した数:'+str(check.count(0))+' buyを予測した数:'+str(check.count(1)))\n",
        "print('実際のsellの数:'+str(answer.count(0))+'実際のbuyの数:'+str(answer.count(1)))"
      ],
      "execution_count": 90,
      "outputs": [
        {
          "output_type": "stream",
          "name": "stdout",
          "text": [
            "1188\n",
            "予測とテストデータの一致した数:581\n",
            "予測とテストデータの外した数:607\n",
            "sellを予測した数:513 buyを予測した数:675\n",
            "実際のsellの数:654実際のbuyの数:534\n"
          ]
        }
      ]
    },
    {
      "cell_type": "code",
      "metadata": {
        "colab": {
          "base_uri": "https://localhost:8080/",
          "height": 295
        },
        "id": "psJXrbPfRK9d",
        "outputId": "2c3722cd-8063-45b6-acd4-2bb7051ff62f"
      },
      "source": [
        "#シミュレーションを行う\n",
        "money=[0]\n",
        "profit=0\n",
        "have=0\n",
        "data=0\n",
        "for i in range(len(ans)):\n",
        "  if have==0:\n",
        "    #sell\n",
        "    if check[i]==0:\n",
        "      have=1\n",
        "      data=i\n",
        "      continue\n",
        "    #buy\n",
        "    if check[i]==1:\n",
        "      have=2\n",
        "      data=i\n",
        "      continue\n",
        "  #sellでエントリーしている場合\n",
        "  if have==1:\n",
        "    #もし次がsellだと予測した場合は保有\n",
        "    if check[i]==0:\n",
        "      continue\n",
        "    #もし次がbuyだと予測した場合は決済を行う\n",
        "    if check[i]==1:\n",
        "      profit+=price[data]-price[i]\n",
        "      money.append(profit)\n",
        "      have=0\n",
        "      continue\n",
        "  #buyでエントリーしている場合\n",
        "  if have==2:\n",
        "    #もし次がbuyだと予測した場合は保有を行う\n",
        "    if check[i]==1:\n",
        "      continue\n",
        "    #もし次がsellだと予測した場合は決済を行う\n",
        "    if check[i]==0:\n",
        "      profit+=price[i]-price[data]\n",
        "      money.append(profit)\n",
        "      have=0\n",
        "      continue\n",
        "plt.plot(money)\n",
        "plt.title('LSTM buy or sell')\n",
        "plt.xlabel('time')\n",
        "plt.ylabel('profit')\n",
        "plt.savefig('/content2.png')\n",
        "plt.show()"
      ],
      "execution_count": 91,
      "outputs": [
        {
          "output_type": "display_data",
          "data": {
            "image/png": "[encoded data removed]",
            "text/plain": [
              "<Figure size 432x288 with 1 Axes>"
            ]
          },
          "metadata": {
            "needs_background": "light"
          }
        }
      ]
    },
    {
      "cell_type": "markdown",
      "metadata": {
        "id": "jZ_4fTWvpbCw"
      },
      "source": [
        "# Lightgbm+optunaで学習を行う｡\n",
        "**特徴量としては､LSTMと異なり何個か前の価格やテクニカル指標は影響を受けずに学習させる**"
      ]
    },
    {
      "cell_type": "markdown",
      "metadata": {
        "id": "7gINX9GzLGA1"
      },
      "source": [
        "**lightgbm+optunaでsell,buyの予測を行う**\n"
      ]
    },
    {
      "cell_type": "code",
      "metadata": {
        "id": "8rwElPanMYvs"
      },
      "source": [
        "!pip install optuna"
      ],
      "execution_count": null,
      "outputs": []
    },
    {
      "cell_type": "code",
      "metadata": {
        "id": "PPArjOx7MFwY"
      },
      "source": [
        "import optuna.integration.lightgbm as lgb\n",
        "from sklearn.model_selection import train_test_split"
      ],
      "execution_count": 93,
      "outputs": []
    },
    {
      "cell_type": "code",
      "metadata": {
        "id": "XxuUVgMRQgFa"
      },
      "source": [
        "price=np.array(df3['price'])\n",
        "PRICE=[]\n",
        "action=[]\n",
        "#sell1 buy2\n",
        "for i in range(len(price)-2):\n",
        "  new=price[i+2]-price[i+1]\n",
        "  PRICE.append(new)\n",
        "  if 0<new:\n",
        "    action.append(1)\n",
        "  else:\n",
        "    action.append(0)\n",
        "print(PRICE)\n",
        "df5=df2[1:-1].reset_index(drop=True)\n",
        "df5.insert(0,'action',action)\n",
        "print(df5['action'].value_counts())"
      ],
      "execution_count": null,
      "outputs": []
    },
    {
      "cell_type": "code",
      "metadata": {
        "colab": {
          "base_uri": "https://localhost:8080/",
          "height": 143
        },
        "id": "QvvebZ1YS8sz",
        "outputId": "031ecc47-b7b9-46ed-a4b5-8eb2e964e4cd"
      },
      "source": [
        "#actionは次取るべき行動を指す｡price[0]からprice[1]に価格が下がっているからaction[0]では0:sellの行動をしたほうが正しいという正解ラベルを与える｡\n",
        "df5.head(3)"
      ],
      "execution_count": 95,
      "outputs": [
        {
          "output_type": "execute_result",
          "data": {
            "text/html": [
              "<div>\n",
              "<style scoped>\n",
              "    .dataframe tbody tr th:only-of-type {\n",
              "        vertical-align: middle;\n",
              "    }\n",
              "\n",
              "    .dataframe tbody tr th {\n",
              "        vertical-align: top;\n",
              "    }\n",
              "\n",
              "    .dataframe thead th {\n",
              "        text-align: right;\n",
              "    }\n",
              "</style>\n",
              "<table border=\"1\" class=\"dataframe\">\n",
              "  <thead>\n",
              "    <tr style=\"text-align: right;\">\n",
              "      <th></th>\n",
              "      <th>action</th>\n",
              "      <th>price</th>\n",
              "      <th>sma20</th>\n",
              "      <th>bb_up</th>\n",
              "      <th>bb_low</th>\n",
              "      <th>macd</th>\n",
              "      <th>macdsignal</th>\n",
              "      <th>macdhist</th>\n",
              "      <th>rsi9</th>\n",
              "      <th>rsi14</th>\n",
              "    </tr>\n",
              "  </thead>\n",
              "  <tbody>\n",
              "    <tr>\n",
              "      <th>0</th>\n",
              "      <td>0</td>\n",
              "      <td>44654.39</td>\n",
              "      <td>45350.6455</td>\n",
              "      <td>46531.145587</td>\n",
              "      <td>44170.145413</td>\n",
              "      <td>-212.402074</td>\n",
              "      <td>-142.232396</td>\n",
              "      <td>-70.169679</td>\n",
              "      <td>25.696322</td>\n",
              "      <td>31.249201</td>\n",
              "    </tr>\n",
              "    <tr>\n",
              "      <th>1</th>\n",
              "      <td>1</td>\n",
              "      <td>44529.61</td>\n",
              "      <td>45298.9325</td>\n",
              "      <td>46584.388807</td>\n",
              "      <td>44013.476193</td>\n",
              "      <td>-242.260572</td>\n",
              "      <td>-162.238031</td>\n",
              "      <td>-80.022541</td>\n",
              "      <td>23.061477</td>\n",
              "      <td>29.271623</td>\n",
              "    </tr>\n",
              "    <tr>\n",
              "      <th>2</th>\n",
              "      <td>1</td>\n",
              "      <td>44637.84</td>\n",
              "      <td>45262.3665</td>\n",
              "      <td>46616.919708</td>\n",
              "      <td>43907.813292</td>\n",
              "      <td>-254.259446</td>\n",
              "      <td>-180.642314</td>\n",
              "      <td>-73.617132</td>\n",
              "      <td>30.059392</td>\n",
              "      <td>33.219226</td>\n",
              "    </tr>\n",
              "  </tbody>\n",
              "</table>\n",
              "</div>"
            ],
            "text/plain": [
              "   action     price       sma20  ...   macdhist       rsi9      rsi14\n",
              "0       0  44654.39  45350.6455  ... -70.169679  25.696322  31.249201\n",
              "1       1  44529.61  45298.9325  ... -80.022541  23.061477  29.271623\n",
              "2       1  44637.84  45262.3665  ... -73.617132  30.059392  33.219226\n",
              "\n",
              "[3 rows x 10 columns]"
            ]
          },
          "metadata": {},
          "execution_count": 95
        }
      ]
    },
    {
      "cell_type": "code",
      "metadata": {
        "id": "zSAd6LWPhLDk"
      },
      "source": [
        "x=df5.iloc[:,1:].reset_index(drop=True)\n",
        "y=df5.iloc[:,0:1].reset_index(drop=True)\n",
        "x_train,x_test,y_train,y_test=train_test_split(x,y,test_size=0.2,shuffle=False)\n",
        "lgb_train=lgb.Dataset(x_train,y_train)\n",
        "lgb_test=lgb.Dataset(x_test,y_test,reference=lgb_train)\n",
        "param={\n",
        "    'task':'train',\n",
        "    'boosting_type':'gbdt',\n",
        "    'obective':'binary',\n",
        "    'verbose':'-1',\n",
        "    'metric':'binary_error',\n",
        "    }\n",
        "best=lgb.train(param,\n",
        "                lgb_train,\n",
        "                valid_sets=lgb_test,\n",
        "                early_stopping_rounds=500)\n",
        "print(best.params)\n",
        "print(best.best_iteration)\n",
        "print(best.best_score)"
      ],
      "execution_count": null,
      "outputs": []
    },
    {
      "cell_type": "code",
      "metadata": {
        "colab": {
          "base_uri": "https://localhost:8080/"
        },
        "id": "BdsxwmNeZM3s",
        "outputId": "2a809f5d-b734-42e9-8104-924b43b65ec4"
      },
      "source": [
        "predict=best.predict(x_test,num_iteration=best.best_iteration)\n",
        "test=y_test.values.tolist()\n",
        "check=[]\n",
        "#testデータで精度の確認\n",
        "for i in range(len(predict)):\n",
        "  if predict[i]>=0.5:\n",
        "    check.append(1)\n",
        "  else:\n",
        "    check.append(0)\n",
        "answer=[]\n",
        "for i in range(len(y_test)):\n",
        "  if test[i][0]==0:\n",
        "    answer.append(0)\n",
        "  else:\n",
        "    answer.append(1)\n",
        "game=[]\n",
        "for i in range(len(answer)):\n",
        "  if answer[i]==check[i]:\n",
        "    game.append('win')\n",
        "  else:\n",
        "    game.append('lose')\n",
        "\n",
        "price=np.array(df5['price'][-(len(y_test)):])\n",
        "\n",
        "print('予測とテストデータの一致した数:'+str(game.count('win')))\n",
        "print('予測とテストデータの外した数:'+str(game.count('lose')))\n",
        "print('sellを予測した数:'+str(check.count(0))+' buyを予測した数:'+str(check.count(1)))\n",
        "print('実際のsellの数:'+str(answer.count(0))+'実際のbuyの数:'+str(answer.count(1)))"
      ],
      "execution_count": 97,
      "outputs": [
        {
          "output_type": "stream",
          "name": "stdout",
          "text": [
            "予測とテストデータの一致した数:650\n",
            "予測とテストデータの外した数:543\n",
            "sellを予測した数:533 buyを予測した数:660\n",
            "実際のsellの数:656実際のbuyの数:537\n"
          ]
        }
      ]
    },
    {
      "cell_type": "code",
      "metadata": {
        "colab": {
          "base_uri": "https://localhost:8080/",
          "height": 295
        },
        "id": "r8uicpl7VyuY",
        "outputId": "b0a67ea4-5faa-488a-e0ea-d869c42ff195"
      },
      "source": [
        "#シミュレーションを行う\n",
        "money=[0]\n",
        "profit=0\n",
        "have=0\n",
        "data=0\n",
        "for i in range(len(ans)):\n",
        "  if have==0:\n",
        "    #sell\n",
        "    if check[i]==0:\n",
        "      have=1\n",
        "      data=i\n",
        "      continue\n",
        "    #buy\n",
        "    if check[i]==1:\n",
        "      have=2\n",
        "      data=i\n",
        "      continue\n",
        "  #sellでエントリーしている場合\n",
        "  if have==1:\n",
        "    #もし次がsellだと予測した場合は保有\n",
        "    if check[i]==0:\n",
        "      continue\n",
        "    #もし次がbuyだと予測した場合は決済を行う\n",
        "    if check[i]==1:\n",
        "      profit+=price[data]-price[i]\n",
        "      money.append(profit)\n",
        "      have=0\n",
        "      continue\n",
        "  #buyでエントリーしている場合\n",
        "  if have==2:\n",
        "    #もし次がbuyだと予測した場合は保有を行う\n",
        "    if check[i]==1:\n",
        "      continue\n",
        "    #もし次がsellだと予測した場合は決済を行う\n",
        "    if check[i]==0:\n",
        "      profit+=price[i]-price[data]\n",
        "      money.append(profit)\n",
        "      have=0\n",
        "      continue\n",
        "plt.plot(money)\n",
        "plt.title('lightgbm+optuna sell or buy')\n",
        "plt.xlabel('time')\n",
        "plt.ylabel('profit')\n",
        "plt.savefig('/content3.png')\n",
        "plt.show()"
      ],
      "execution_count": 98,
      "outputs": [
        {
          "output_type": "display_data",
          "data": {
            "image/png": "[encoded data removed]",
            "text/plain": [
              "<Figure size 432x288 with 1 Axes>"
            ]
          },
          "metadata": {
            "needs_background": "light"
          }
        }
      ]
    },
    {
      "cell_type": "markdown",
      "metadata": {
        "id": "olENw5wQLzlJ"
      },
      "source": [
        "**lightgbm+optunaでstay,sell,buyの予測を行う**"
      ]
    },
    {
      "cell_type": "markdown",
      "metadata": {
        "id": "2_h1uJQ2dLKm"
      },
      "source": [
        "**stay or sell or buy**"
      ]
    },
    {
      "cell_type": "code",
      "metadata": {
        "colab": {
          "base_uri": "https://localhost:8080/"
        },
        "id": "Qm1QkL7OdSKW",
        "outputId": "d825db7f-c5f1-4b4f-df7d-e98d6a1724b8"
      },
      "source": [
        "price=np.array(df3['price'])\n",
        "PRICE=[]\n",
        "action=[]\n",
        "#stay0 sell1 buy2\n",
        "for i in range(len(price)-2):\n",
        "  new=price[i+2]-price[i+1]\n",
        "  PRICE.append(new)\n",
        "  if -10.0<=new<=10.0:\n",
        "    action.append(0)\n",
        "    continue\n",
        "  elif new<-10.0:\n",
        "    action.append(1)\n",
        "  elif 10.0<new:\n",
        "    action.append(2)\n",
        "df6=df2[1:-1].reset_index(drop=True)\n",
        "df6.insert(0,'action',action)\n",
        "print(df6['action'].value_counts())"
      ],
      "execution_count": 99,
      "outputs": [
        {
          "output_type": "stream",
          "name": "stdout",
          "text": [
            "1    2842\n",
            "2    2753\n",
            "0     369\n",
            "Name: action, dtype: int64\n"
          ]
        }
      ]
    },
    {
      "cell_type": "code",
      "metadata": {
        "colab": {
          "base_uri": "https://localhost:8080/",
          "height": 143
        },
        "id": "7043eZUTe-2i",
        "outputId": "19e0438e-c384-44d6-a88d-809183588fbb"
      },
      "source": [
        "df6.head(3)"
      ],
      "execution_count": 100,
      "outputs": [
        {
          "output_type": "execute_result",
          "data": {
            "text/html": [
              "<div>\n",
              "<style scoped>\n",
              "    .dataframe tbody tr th:only-of-type {\n",
              "        vertical-align: middle;\n",
              "    }\n",
              "\n",
              "    .dataframe tbody tr th {\n",
              "        vertical-align: top;\n",
              "    }\n",
              "\n",
              "    .dataframe thead th {\n",
              "        text-align: right;\n",
              "    }\n",
              "</style>\n",
              "<table border=\"1\" class=\"dataframe\">\n",
              "  <thead>\n",
              "    <tr style=\"text-align: right;\">\n",
              "      <th></th>\n",
              "      <th>action</th>\n",
              "      <th>price</th>\n",
              "      <th>sma20</th>\n",
              "      <th>bb_up</th>\n",
              "      <th>bb_low</th>\n",
              "      <th>macd</th>\n",
              "      <th>macdsignal</th>\n",
              "      <th>macdhist</th>\n",
              "      <th>rsi9</th>\n",
              "      <th>rsi14</th>\n",
              "    </tr>\n",
              "  </thead>\n",
              "  <tbody>\n",
              "    <tr>\n",
              "      <th>0</th>\n",
              "      <td>1</td>\n",
              "      <td>44654.39</td>\n",
              "      <td>45350.6455</td>\n",
              "      <td>46531.145587</td>\n",
              "      <td>44170.145413</td>\n",
              "      <td>-212.402074</td>\n",
              "      <td>-142.232396</td>\n",
              "      <td>-70.169679</td>\n",
              "      <td>25.696322</td>\n",
              "      <td>31.249201</td>\n",
              "    </tr>\n",
              "    <tr>\n",
              "      <th>1</th>\n",
              "      <td>2</td>\n",
              "      <td>44529.61</td>\n",
              "      <td>45298.9325</td>\n",
              "      <td>46584.388807</td>\n",
              "      <td>44013.476193</td>\n",
              "      <td>-242.260572</td>\n",
              "      <td>-162.238031</td>\n",
              "      <td>-80.022541</td>\n",
              "      <td>23.061477</td>\n",
              "      <td>29.271623</td>\n",
              "    </tr>\n",
              "    <tr>\n",
              "      <th>2</th>\n",
              "      <td>2</td>\n",
              "      <td>44637.84</td>\n",
              "      <td>45262.3665</td>\n",
              "      <td>46616.919708</td>\n",
              "      <td>43907.813292</td>\n",
              "      <td>-254.259446</td>\n",
              "      <td>-180.642314</td>\n",
              "      <td>-73.617132</td>\n",
              "      <td>30.059392</td>\n",
              "      <td>33.219226</td>\n",
              "    </tr>\n",
              "  </tbody>\n",
              "</table>\n",
              "</div>"
            ],
            "text/plain": [
              "   action     price       sma20  ...   macdhist       rsi9      rsi14\n",
              "0       1  44654.39  45350.6455  ... -70.169679  25.696322  31.249201\n",
              "1       2  44529.61  45298.9325  ... -80.022541  23.061477  29.271623\n",
              "2       2  44637.84  45262.3665  ... -73.617132  30.059392  33.219226\n",
              "\n",
              "[3 rows x 10 columns]"
            ]
          },
          "metadata": {},
          "execution_count": 100
        }
      ]
    },
    {
      "cell_type": "code",
      "metadata": {
        "id": "KCc1kDImk3gI"
      },
      "source": [
        "x=df6.iloc[:,1:].reset_index(drop=True)\n",
        "y=df6.iloc[:,0:1].reset_index(drop=True)\n",
        "x_train,x_test,y_train,y_test=train_test_split(x,y,test_size=0.2,shuffle=False)\n",
        "lgb_train=lgb.Dataset(x_train,y_train)\n",
        "lgb_test=lgb.Dataset(x_test,y_test,reference=lgb_train)\n",
        "\n",
        "param={\n",
        "    'task': 'train',\n",
        "    'boosting_type': 'gbdt',\n",
        "    'objective': 'multiclass',\n",
        "    'num_class': 3,\n",
        "    'verbose':'-1',\n",
        "    'metric': 'multi_error', \n",
        "}\n",
        "best=lgb.train(param,\n",
        "              lgb_train,\n",
        "              valid_sets=lgb_test,\n",
        "              early_stopping_rounds=500)\n",
        "print(best.params)\n",
        "print(best.best_iteration)\n",
        "print(best.best_score)\n"
      ],
      "execution_count": null,
      "outputs": []
    },
    {
      "cell_type": "code",
      "metadata": {
        "colab": {
          "base_uri": "https://localhost:8080/"
        },
        "id": "owKJyBy8kdaO",
        "outputId": "1434c5c8-3658-4c65-f3d9-3aaa486276f6"
      },
      "source": [
        "predict=best.predict(x_test,num_iteration=best.best_iteration)\n",
        "test=y_test.values.tolist()\n",
        "check=[]\n",
        "#testデータで精度の確認\n",
        "for i in range(len(x_test)):\n",
        "  if predict[i][0]>predict[i][1]:\n",
        "    if predict[i][0]>predict[i][2]:\n",
        "      check.append(0)\n",
        "    else:\n",
        "      check.append(2)\n",
        "  else:\n",
        "    if predict[i][1]>predict[i][2]:\n",
        "      check.append(1)\n",
        "    else:\n",
        "      check.append(2)\n",
        "answer=[]\n",
        "for i in range(len(y_test)):\n",
        "  if test[i][0]==0:\n",
        "    answer.append(0)\n",
        "    continue\n",
        "  elif test[i][0]==1:\n",
        "    answer.append(1)\n",
        "    continue\n",
        "  elif test[i][0]==2:\n",
        "    answer.append(2)\n",
        "game=[]\n",
        "for i in range(len(answer)):\n",
        "  if answer[i]==check[i]:\n",
        "    game.append('win')\n",
        "  else:\n",
        "    game.append('lose')\n",
        "print('予測とテストデータの一致した数:'+str(game.count('win')))\n",
        "print('予測とテストデータの外した数:'+str(game.count('lose')))\n",
        "print('stayを予測した数:'+str(check.count(0))+' sellを予測した数:'+str(check.count(1))+' buyを予測した数:'+str(check.count(2)))\n",
        "print('実際のstayの数:'+str(answer.count(0))+'実際のsellの数:'+str(answer.count(1))+'実際のbuyの数:'+str(answer.count(2)))"
      ],
      "execution_count": 102,
      "outputs": [
        {
          "output_type": "stream",
          "name": "stdout",
          "text": [
            "予測とテストデータの一致した数:606\n",
            "予測とテストデータの外した数:587\n",
            "stayを予測した数:0 sellを予測した数:525 buyを予測した数:668\n",
            "実際のstayの数:76実際のsellの数:614実際のbuyの数:503\n"
          ]
        }
      ]
    },
    {
      "cell_type": "code",
      "metadata": {
        "colab": {
          "base_uri": "https://localhost:8080/",
          "height": 295
        },
        "id": "TUJfFoZInQMP",
        "outputId": "d797d808-bc33-450b-d5b2-0f7d4391b7bf"
      },
      "source": [
        "#シミュレーションを行う\n",
        "money=[0]\n",
        "profit=0\n",
        "#haveはエントリーしていない、エントリーしている（sellは1,buyは2)を指す。\n",
        "have=0\n",
        "data=0\n",
        "for i in range(len(ans)):\n",
        "  #もっていない状態\n",
        "  if have==0:\n",
        "    #どういう行動を起こすか\n",
        "    #stayなのでエントリーは行わない。\n",
        "    if check[i]==0:\n",
        "      continue\n",
        "    #buyなのでbuyでエントリー\n",
        "    if check[i]==2:\n",
        "      have=2\n",
        "      data=i\n",
        "      continue\n",
        "    #sellなのでsellでエントリー\n",
        "    if check[i]==1:\n",
        "      have=1\n",
        "      data=i\n",
        "      continue\n",
        "  #sellでエントリーしている場合\n",
        "  if have==1:\n",
        "    #もし次がstayかsellだと予測した場合は保有\n",
        "    if (check[i]==0 or check[i]==1):\n",
        "      continue\n",
        "    #もし次がbuyだと予測した場合は決済を行う\n",
        "    if check[i]==2:\n",
        "      profit+=price[data]-price[i]\n",
        "      money.append(profit)\n",
        "      have=0\n",
        "      continue\n",
        "  #buyでエントリーしている場合\n",
        "  if have==2:\n",
        "    #もし次がstayかbuyだと予測した場合は保有を行う\n",
        "    if (check[i]==0 or check[i]==2):\n",
        "      continue\n",
        "    #もし次がsellだと予測した場合は決済を行う\n",
        "    if check[i]==1:\n",
        "      profit+=price[i]-price[data]\n",
        "      money.append(profit)\n",
        "      have=0\n",
        "      continue\n",
        "\n",
        "plt.plot(money)\n",
        "plt.title('lightgbm+optuna stay or sell or buy')\n",
        "plt.xlabel('time')\n",
        "plt.ylabel('money')\n",
        "plt.savefig('/content4.png')\n",
        "plt.show()"
      ],
      "execution_count": 103,
      "outputs": [
        {
          "output_type": "display_data",
          "data": {
            "image/png": "[encoded data removed]",
            "text/plain": [
              "<Figure size 432x288 with 1 Axes>"
            ]
          },
          "metadata": {
            "needs_background": "light"
          }
        }
      ]
    },
    {
      "cell_type": "markdown",
      "metadata": {
        "id": "VFN2LCN0p7_l"
      },
      "source": [
        "#Lightgbm+optunaで学習させる\n",
        "\n",
        "**特徴量としてLSTMと同様に何個か前の価格やテクニカル指標も影響を受けて学習をさせる**"
      ]
    },
    {
      "cell_type": "markdown",
      "metadata": {
        "id": "LOaAdeW2Ehuo"
      },
      "source": [
        "**正解ラベルは0:sell,1:buy**"
      ]
    },
    {
      "cell_type": "code",
      "metadata": {
        "colab": {
          "base_uri": "https://localhost:8080/",
          "height": 424
        },
        "id": "-OLYKXJCEypk",
        "outputId": "861635f1-444b-4934-c243-a73ac91e12fe"
      },
      "source": [
        "df5"
      ],
      "execution_count": 104,
      "outputs": [
        {
          "output_type": "execute_result",
          "data": {
            "text/html": [
              "<div>\n",
              "<style scoped>\n",
              "    .dataframe tbody tr th:only-of-type {\n",
              "        vertical-align: middle;\n",
              "    }\n",
              "\n",
              "    .dataframe tbody tr th {\n",
              "        vertical-align: top;\n",
              "    }\n",
              "\n",
              "    .dataframe thead th {\n",
              "        text-align: right;\n",
              "    }\n",
              "</style>\n",
              "<table border=\"1\" class=\"dataframe\">\n",
              "  <thead>\n",
              "    <tr style=\"text-align: right;\">\n",
              "      <th></th>\n",
              "      <th>action</th>\n",
              "      <th>price</th>\n",
              "      <th>sma20</th>\n",
              "      <th>bb_up</th>\n",
              "      <th>bb_low</th>\n",
              "      <th>macd</th>\n",
              "      <th>macdsignal</th>\n",
              "      <th>macdhist</th>\n",
              "      <th>rsi9</th>\n",
              "      <th>rsi14</th>\n",
              "    </tr>\n",
              "  </thead>\n",
              "  <tbody>\n",
              "    <tr>\n",
              "      <th>0</th>\n",
              "      <td>0</td>\n",
              "      <td>44654.39</td>\n",
              "      <td>45350.6455</td>\n",
              "      <td>46531.145587</td>\n",
              "      <td>44170.145413</td>\n",
              "      <td>-212.402074</td>\n",
              "      <td>-142.232396</td>\n",
              "      <td>-70.169679</td>\n",
              "      <td>25.696322</td>\n",
              "      <td>31.249201</td>\n",
              "    </tr>\n",
              "    <tr>\n",
              "      <th>1</th>\n",
              "      <td>1</td>\n",
              "      <td>44529.61</td>\n",
              "      <td>45298.9325</td>\n",
              "      <td>46584.388807</td>\n",
              "      <td>44013.476193</td>\n",
              "      <td>-242.260572</td>\n",
              "      <td>-162.238031</td>\n",
              "      <td>-80.022541</td>\n",
              "      <td>23.061477</td>\n",
              "      <td>29.271623</td>\n",
              "    </tr>\n",
              "    <tr>\n",
              "      <th>2</th>\n",
              "      <td>1</td>\n",
              "      <td>44637.84</td>\n",
              "      <td>45262.3665</td>\n",
              "      <td>46616.919708</td>\n",
              "      <td>43907.813292</td>\n",
              "      <td>-254.259446</td>\n",
              "      <td>-180.642314</td>\n",
              "      <td>-73.617132</td>\n",
              "      <td>30.059392</td>\n",
              "      <td>33.219226</td>\n",
              "    </tr>\n",
              "    <tr>\n",
              "      <th>3</th>\n",
              "      <td>1</td>\n",
              "      <td>44648.80</td>\n",
              "      <td>45215.3260</td>\n",
              "      <td>46606.770612</td>\n",
              "      <td>43823.881388</td>\n",
              "      <td>-259.888427</td>\n",
              "      <td>-196.491537</td>\n",
              "      <td>-63.396890</td>\n",
              "      <td>30.776678</td>\n",
              "      <td>33.623247</td>\n",
              "    </tr>\n",
              "    <tr>\n",
              "      <th>4</th>\n",
              "      <td>0</td>\n",
              "      <td>44659.13</td>\n",
              "      <td>45167.9625</td>\n",
              "      <td>46577.329451</td>\n",
              "      <td>43758.595549</td>\n",
              "      <td>-260.512861</td>\n",
              "      <td>-209.295801</td>\n",
              "      <td>-51.217059</td>\n",
              "      <td>31.521343</td>\n",
              "      <td>34.028367</td>\n",
              "    </tr>\n",
              "    <tr>\n",
              "      <th>...</th>\n",
              "      <td>...</td>\n",
              "      <td>...</td>\n",
              "      <td>...</td>\n",
              "      <td>...</td>\n",
              "      <td>...</td>\n",
              "      <td>...</td>\n",
              "      <td>...</td>\n",
              "      <td>...</td>\n",
              "      <td>...</td>\n",
              "      <td>...</td>\n",
              "    </tr>\n",
              "    <tr>\n",
              "      <th>5959</th>\n",
              "      <td>1</td>\n",
              "      <td>54306.74</td>\n",
              "      <td>54636.7390</td>\n",
              "      <td>56120.274641</td>\n",
              "      <td>53153.203359</td>\n",
              "      <td>-714.090296</td>\n",
              "      <td>-798.952412</td>\n",
              "      <td>84.862117</td>\n",
              "      <td>40.295850</td>\n",
              "      <td>35.019477</td>\n",
              "    </tr>\n",
              "    <tr>\n",
              "      <th>5960</th>\n",
              "      <td>1</td>\n",
              "      <td>54388.82</td>\n",
              "      <td>54577.5875</td>\n",
              "      <td>55920.551371</td>\n",
              "      <td>53234.623629</td>\n",
              "      <td>-664.554571</td>\n",
              "      <td>-772.072844</td>\n",
              "      <td>107.518273</td>\n",
              "      <td>42.765580</td>\n",
              "      <td>36.770630</td>\n",
              "    </tr>\n",
              "    <tr>\n",
              "      <th>5961</th>\n",
              "      <td>1</td>\n",
              "      <td>54591.47</td>\n",
              "      <td>54548.6435</td>\n",
              "      <td>55828.480821</td>\n",
              "      <td>53268.806179</td>\n",
              "      <td>-602.005447</td>\n",
              "      <td>-738.059365</td>\n",
              "      <td>136.053918</td>\n",
              "      <td>48.663916</td>\n",
              "      <td>40.998286</td>\n",
              "    </tr>\n",
              "    <tr>\n",
              "      <th>5962</th>\n",
              "      <td>1</td>\n",
              "      <td>54671.26</td>\n",
              "      <td>54513.3995</td>\n",
              "      <td>55664.673693</td>\n",
              "      <td>53362.125307</td>\n",
              "      <td>-539.774247</td>\n",
              "      <td>-698.402341</td>\n",
              "      <td>158.628094</td>\n",
              "      <td>50.905028</td>\n",
              "      <td>42.624923</td>\n",
              "    </tr>\n",
              "    <tr>\n",
              "      <th>5963</th>\n",
              "      <td>0</td>\n",
              "      <td>54933.69</td>\n",
              "      <td>54498.9480</td>\n",
              "      <td>55583.674461</td>\n",
              "      <td>53414.221539</td>\n",
              "      <td>-463.931749</td>\n",
              "      <td>-651.508223</td>\n",
              "      <td>187.576473</td>\n",
              "      <td>57.732569</td>\n",
              "      <td>47.729206</td>\n",
              "    </tr>\n",
              "  </tbody>\n",
              "</table>\n",
              "<p>5964 rows × 10 columns</p>\n",
              "</div>"
            ],
            "text/plain": [
              "      action     price       sma20  ...    macdhist       rsi9      rsi14\n",
              "0          0  44654.39  45350.6455  ...  -70.169679  25.696322  31.249201\n",
              "1          1  44529.61  45298.9325  ...  -80.022541  23.061477  29.271623\n",
              "2          1  44637.84  45262.3665  ...  -73.617132  30.059392  33.219226\n",
              "3          1  44648.80  45215.3260  ...  -63.396890  30.776678  33.623247\n",
              "4          0  44659.13  45167.9625  ...  -51.217059  31.521343  34.028367\n",
              "...      ...       ...         ...  ...         ...        ...        ...\n",
              "5959       1  54306.74  54636.7390  ...   84.862117  40.295850  35.019477\n",
              "5960       1  54388.82  54577.5875  ...  107.518273  42.765580  36.770630\n",
              "5961       1  54591.47  54548.6435  ...  136.053918  48.663916  40.998286\n",
              "5962       1  54671.26  54513.3995  ...  158.628094  50.905028  42.624923\n",
              "5963       0  54933.69  54498.9480  ...  187.576473  57.732569  47.729206\n",
              "\n",
              "[5964 rows x 10 columns]"
            ]
          },
          "metadata": {},
          "execution_count": 104
        }
      ]
    },
    {
      "cell_type": "code",
      "metadata": {
        "id": "YBwnlUEYFzbL"
      },
      "source": [
        "def create_colums(new_df,old_df,num):\n",
        "  new_df=old_df\n",
        "  col=['price', 'sma20', 'bb_up', 'bb_low', 'macd', 'macdsignal','macdhist', 'rsi9', 'rsi14']\n",
        "  for i in col:\n",
        "    for j in range(1,int(num)):\n",
        "      new_df[i+'_'+str(j)]=old_df[i].shift(j)\n",
        "  new_df=new_df[num:].reset_index(drop=True)\n",
        "  return new_df"
      ],
      "execution_count": 105,
      "outputs": []
    },
    {
      "cell_type": "code",
      "metadata": {
        "id": "oHOEztCQAqeA"
      },
      "source": [
        "df7=df5"
      ],
      "execution_count": 106,
      "outputs": []
    },
    {
      "cell_type": "code",
      "metadata": {
        "id": "nadp5P6-dheO"
      },
      "source": [
        "df7=create_colums(df7,df5,5)"
      ],
      "execution_count": 107,
      "outputs": []
    },
    {
      "cell_type": "code",
      "metadata": {
        "colab": {
          "base_uri": "https://localhost:8080/",
          "height": 163
        },
        "id": "o9tRndcOYjYk",
        "outputId": "7b6753e5-5654-4099-c8d0-2c836a568543"
      },
      "source": [
        "df7.head(3)"
      ],
      "execution_count": 108,
      "outputs": [
        {
          "output_type": "execute_result",
          "data": {
            "text/html": [
              "<div>\n",
              "<style scoped>\n",
              "    .dataframe tbody tr th:only-of-type {\n",
              "        vertical-align: middle;\n",
              "    }\n",
              "\n",
              "    .dataframe tbody tr th {\n",
              "        vertical-align: top;\n",
              "    }\n",
              "\n",
              "    .dataframe thead th {\n",
              "        text-align: right;\n",
              "    }\n",
              "</style>\n",
              "<table border=\"1\" class=\"dataframe\">\n",
              "  <thead>\n",
              "    <tr style=\"text-align: right;\">\n",
              "      <th></th>\n",
              "      <th>action</th>\n",
              "      <th>price</th>\n",
              "      <th>sma20</th>\n",
              "      <th>bb_up</th>\n",
              "      <th>bb_low</th>\n",
              "      <th>macd</th>\n",
              "      <th>macdsignal</th>\n",
              "      <th>macdhist</th>\n",
              "      <th>rsi9</th>\n",
              "      <th>rsi14</th>\n",
              "      <th>price_1</th>\n",
              "      <th>price_2</th>\n",
              "      <th>price_3</th>\n",
              "      <th>price_4</th>\n",
              "      <th>sma20_1</th>\n",
              "      <th>sma20_2</th>\n",
              "      <th>sma20_3</th>\n",
              "      <th>sma20_4</th>\n",
              "      <th>bb_up_1</th>\n",
              "      <th>bb_up_2</th>\n",
              "      <th>bb_up_3</th>\n",
              "      <th>bb_up_4</th>\n",
              "      <th>bb_low_1</th>\n",
              "      <th>bb_low_2</th>\n",
              "      <th>bb_low_3</th>\n",
              "      <th>bb_low_4</th>\n",
              "      <th>macd_1</th>\n",
              "      <th>macd_2</th>\n",
              "      <th>macd_3</th>\n",
              "      <th>macd_4</th>\n",
              "      <th>macdsignal_1</th>\n",
              "      <th>macdsignal_2</th>\n",
              "      <th>macdsignal_3</th>\n",
              "      <th>macdsignal_4</th>\n",
              "      <th>macdhist_1</th>\n",
              "      <th>macdhist_2</th>\n",
              "      <th>macdhist_3</th>\n",
              "      <th>macdhist_4</th>\n",
              "      <th>rsi9_1</th>\n",
              "      <th>rsi9_2</th>\n",
              "      <th>rsi9_3</th>\n",
              "      <th>rsi9_4</th>\n",
              "      <th>rsi14_1</th>\n",
              "      <th>rsi14_2</th>\n",
              "      <th>rsi14_3</th>\n",
              "      <th>rsi14_4</th>\n",
              "    </tr>\n",
              "  </thead>\n",
              "  <tbody>\n",
              "    <tr>\n",
              "      <th>0</th>\n",
              "      <td>1</td>\n",
              "      <td>44522.05</td>\n",
              "      <td>45091.601</td>\n",
              "      <td>46422.785654</td>\n",
              "      <td>43760.416346</td>\n",
              "      <td>-268.968438</td>\n",
              "      <td>-221.230329</td>\n",
              "      <td>-47.738109</td>\n",
              "      <td>27.159618</td>\n",
              "      <td>31.298453</td>\n",
              "      <td>44659.13</td>\n",
              "      <td>44648.80</td>\n",
              "      <td>44637.84</td>\n",
              "      <td>44529.61</td>\n",
              "      <td>45167.9625</td>\n",
              "      <td>45215.3260</td>\n",
              "      <td>45262.3665</td>\n",
              "      <td>45298.9325</td>\n",
              "      <td>46577.329451</td>\n",
              "      <td>46606.770612</td>\n",
              "      <td>46616.919708</td>\n",
              "      <td>46584.388807</td>\n",
              "      <td>43758.595549</td>\n",
              "      <td>43823.881388</td>\n",
              "      <td>43907.813292</td>\n",
              "      <td>44013.476193</td>\n",
              "      <td>-260.512861</td>\n",
              "      <td>-259.888427</td>\n",
              "      <td>-254.259446</td>\n",
              "      <td>-242.260572</td>\n",
              "      <td>-209.295801</td>\n",
              "      <td>-196.491537</td>\n",
              "      <td>-180.642314</td>\n",
              "      <td>-162.238031</td>\n",
              "      <td>-51.217059</td>\n",
              "      <td>-63.396890</td>\n",
              "      <td>-73.617132</td>\n",
              "      <td>-80.022541</td>\n",
              "      <td>31.521343</td>\n",
              "      <td>30.776678</td>\n",
              "      <td>30.059392</td>\n",
              "      <td>23.061477</td>\n",
              "      <td>34.028367</td>\n",
              "      <td>33.623247</td>\n",
              "      <td>33.219226</td>\n",
              "      <td>29.271623</td>\n",
              "    </tr>\n",
              "    <tr>\n",
              "      <th>1</th>\n",
              "      <td>1</td>\n",
              "      <td>44639.12</td>\n",
              "      <td>45022.957</td>\n",
              "      <td>46223.193113</td>\n",
              "      <td>43822.720887</td>\n",
              "      <td>-263.189094</td>\n",
              "      <td>-229.622082</td>\n",
              "      <td>-33.567012</td>\n",
              "      <td>35.707142</td>\n",
              "      <td>36.019231</td>\n",
              "      <td>44522.05</td>\n",
              "      <td>44659.13</td>\n",
              "      <td>44648.80</td>\n",
              "      <td>44637.84</td>\n",
              "      <td>45091.6010</td>\n",
              "      <td>45167.9625</td>\n",
              "      <td>45215.3260</td>\n",
              "      <td>45262.3665</td>\n",
              "      <td>46422.785654</td>\n",
              "      <td>46577.329451</td>\n",
              "      <td>46606.770612</td>\n",
              "      <td>46616.919708</td>\n",
              "      <td>43760.416346</td>\n",
              "      <td>43758.595549</td>\n",
              "      <td>43823.881388</td>\n",
              "      <td>43907.813292</td>\n",
              "      <td>-268.968438</td>\n",
              "      <td>-260.512861</td>\n",
              "      <td>-259.888427</td>\n",
              "      <td>-254.259446</td>\n",
              "      <td>-221.230329</td>\n",
              "      <td>-209.295801</td>\n",
              "      <td>-196.491537</td>\n",
              "      <td>-180.642314</td>\n",
              "      <td>-47.738109</td>\n",
              "      <td>-51.217059</td>\n",
              "      <td>-63.396890</td>\n",
              "      <td>-73.617132</td>\n",
              "      <td>27.159618</td>\n",
              "      <td>31.521343</td>\n",
              "      <td>30.776678</td>\n",
              "      <td>30.059392</td>\n",
              "      <td>31.298453</td>\n",
              "      <td>34.028367</td>\n",
              "      <td>33.623247</td>\n",
              "      <td>33.219226</td>\n",
              "    </tr>\n",
              "    <tr>\n",
              "      <th>2</th>\n",
              "      <td>0</td>\n",
              "      <td>44754.09</td>\n",
              "      <td>44965.864</td>\n",
              "      <td>46015.057947</td>\n",
              "      <td>43916.670053</td>\n",
              "      <td>-246.490415</td>\n",
              "      <td>-232.995748</td>\n",
              "      <td>-13.494667</td>\n",
              "      <td>43.085842</td>\n",
              "      <td>40.353870</td>\n",
              "      <td>44639.12</td>\n",
              "      <td>44522.05</td>\n",
              "      <td>44659.13</td>\n",
              "      <td>44648.80</td>\n",
              "      <td>45022.9570</td>\n",
              "      <td>45091.6010</td>\n",
              "      <td>45167.9625</td>\n",
              "      <td>45215.3260</td>\n",
              "      <td>46223.193113</td>\n",
              "      <td>46422.785654</td>\n",
              "      <td>46577.329451</td>\n",
              "      <td>46606.770612</td>\n",
              "      <td>43822.720887</td>\n",
              "      <td>43760.416346</td>\n",
              "      <td>43758.595549</td>\n",
              "      <td>43823.881388</td>\n",
              "      <td>-263.189094</td>\n",
              "      <td>-268.968438</td>\n",
              "      <td>-260.512861</td>\n",
              "      <td>-259.888427</td>\n",
              "      <td>-229.622082</td>\n",
              "      <td>-221.230329</td>\n",
              "      <td>-209.295801</td>\n",
              "      <td>-196.491537</td>\n",
              "      <td>-33.567012</td>\n",
              "      <td>-47.738109</td>\n",
              "      <td>-51.217059</td>\n",
              "      <td>-63.396890</td>\n",
              "      <td>35.707142</td>\n",
              "      <td>27.159618</td>\n",
              "      <td>31.521343</td>\n",
              "      <td>30.776678</td>\n",
              "      <td>36.019231</td>\n",
              "      <td>31.298453</td>\n",
              "      <td>34.028367</td>\n",
              "      <td>33.623247</td>\n",
              "    </tr>\n",
              "  </tbody>\n",
              "</table>\n",
              "</div>"
            ],
            "text/plain": [
              "   action     price      sma20  ...    rsi14_2    rsi14_3    rsi14_4\n",
              "0       1  44522.05  45091.601  ...  33.623247  33.219226  29.271623\n",
              "1       1  44639.12  45022.957  ...  34.028367  33.623247  33.219226\n",
              "2       0  44754.09  44965.864  ...  31.298453  34.028367  33.623247\n",
              "\n",
              "[3 rows x 46 columns]"
            ]
          },
          "metadata": {},
          "execution_count": 108
        }
      ]
    },
    {
      "cell_type": "code",
      "metadata": {
        "colab": {
          "base_uri": "https://localhost:8080/"
        },
        "id": "90MdERqIlaLX",
        "outputId": "b2eb9588-d550-4b0b-c3f2-2fad52513b9a"
      },
      "source": [
        "df7['action'].value_counts()"
      ],
      "execution_count": 109,
      "outputs": [
        {
          "output_type": "execute_result",
          "data": {
            "text/plain": [
              "0    3043\n",
              "1    2916\n",
              "Name: action, dtype: int64"
            ]
          },
          "metadata": {},
          "execution_count": 109
        }
      ]
    },
    {
      "cell_type": "code",
      "metadata": {
        "id": "Mi55H28rIv9u"
      },
      "source": [
        "x=df7.iloc[:,1:].reset_index(drop=True)\n",
        "y=df7.iloc[:,0:1].reset_index(drop=True)\n",
        "x_train,x_test,y_train,y_test=train_test_split(x,y,test_size=0.2,shuffle=False)\n",
        "lgb_train=lgb.Dataset(x_train,y_train)\n",
        "lgb_test=lgb.Dataset(x_test,y_test,reference=lgb_train)\n",
        "\n",
        "param={\n",
        "    'task':'train',\n",
        "    'boosting_type':'gbdt',\n",
        "    'obective':'binary',\n",
        "    'verbose':'-1',\n",
        "    'metric':'binary_error',\n",
        "}\n",
        "best=lgb.train(param,\n",
        "              lgb_train,\n",
        "              valid_sets=lgb_test,\n",
        "              early_stopping_rounds=500)\n",
        "print(best.params)\n",
        "print(best.best_iteration)\n",
        "print(best.best_score)"
      ],
      "execution_count": null,
      "outputs": []
    },
    {
      "cell_type": "code",
      "metadata": {
        "colab": {
          "base_uri": "https://localhost:8080/"
        },
        "id": "aazRCjlf2US7",
        "outputId": "dbeef026-a171-40ea-bc79-22d09f997647"
      },
      "source": [
        "predict=best.predict(x_test,num_iteration=best.best_iteration)\n",
        "test=y_test.values.tolist()\n",
        "check=[]\n",
        "#testデータで精度の確認\n",
        "for i in range(len(predict)):\n",
        "  if predict[i]>=0.5:\n",
        "    check.append(1)\n",
        "  else:\n",
        "    check.append(0)\n",
        "answer=[]\n",
        "for i in range(len(y_test)):\n",
        "  if test[i][0]==0:\n",
        "    answer.append(0)\n",
        "  else:\n",
        "    answer.append(1)\n",
        "game=[]\n",
        "for i in range(len(answer)):\n",
        "  if answer[i]==check[i]:\n",
        "    game.append('win')\n",
        "  else:\n",
        "    game.append('lose')\n",
        "\n",
        "price=np.array(df5['price'][-(len(y_test)):])\n",
        "\n",
        "\n",
        "print('予測とテストデータの一致した数:'+str(game.count('win')))\n",
        "print('予測とテストデータの外した数:'+str(game.count('lose')))\n",
        "print('sellを予測した数:'+str(check.count(0))+' buyを予測した数:'+str(check.count(1)))\n",
        "print('実際のsellの数:'+str(answer.count(0))+'実際のbuyの数:'+str(answer.count(1)))"
      ],
      "execution_count": 111,
      "outputs": [
        {
          "output_type": "stream",
          "name": "stdout",
          "text": [
            "予測とテストデータの一致した数:660\n",
            "予測とテストデータの外した数:532\n",
            "sellを予測した数:600 buyを予測した数:592\n",
            "実際のsellの数:656実際のbuyの数:536\n"
          ]
        }
      ]
    },
    {
      "cell_type": "code",
      "metadata": {
        "colab": {
          "base_uri": "https://localhost:8080/",
          "height": 295
        },
        "id": "S6MuLzmmLgIE",
        "outputId": "8c6d3b57-5726-452f-951f-640f629311fc"
      },
      "source": [
        "#シミュレーションを行う\n",
        "money=[0]\n",
        "profit=0\n",
        "have=0\n",
        "data=0\n",
        "for i in range(len(ans)):\n",
        "  if have==0:\n",
        "    #sell\n",
        "    if check[i]==0:\n",
        "      have=1\n",
        "      data=i\n",
        "      continue\n",
        "    #buy\n",
        "    if check[i]==1:\n",
        "      have=2\n",
        "      data=i\n",
        "      continue\n",
        "  #sellでエントリーしている場合\n",
        "  if have==1:\n",
        "    #もし次がsellだと予測した場合は保有\n",
        "    if check[i]==0:\n",
        "      continue\n",
        "    #もし次がbuyだと予測した場合は決済を行う\n",
        "    if check[i]==1:\n",
        "      profit+=price[data]-price[i]\n",
        "      money.append(profit)\n",
        "      have=0\n",
        "      continue\n",
        "  #buyでエントリーしている場合\n",
        "  if have==2:\n",
        "    #もし次がbuyだと予測した場合は保有を行う\n",
        "    if check[i]==1:\n",
        "      continue\n",
        "    #もし次がsellだと予測した場合は決済を行う\n",
        "    if check[i]==0:\n",
        "      profit+=price[i]-price[data]\n",
        "      money.append(profit)\n",
        "      have=0\n",
        "      continue\n",
        "plt.plot(money)\n",
        "plt.title('lightgbm+optuna sell or buy 5daysdata')\n",
        "plt.xlabel('time')\n",
        "plt.ylabel('profit')\n",
        "plt.savefig('/content5.png')\n",
        "plt.show()"
      ],
      "execution_count": 112,
      "outputs": [
        {
          "output_type": "display_data",
          "data": {
            "image/png": "[encoded data removed]",
            "text/plain": [
              "<Figure size 432x288 with 1 Axes>"
            ]
          },
          "metadata": {
            "needs_background": "light"
          }
        }
      ]
    },
    {
      "cell_type": "markdown",
      "metadata": {
        "id": "V9D3p1_0dMum"
      },
      "source": [
        "**lightgbm+optuna 特徴量で5個前までのテクニカル指標たちも加える 正解ラベルは0:sell,1:sell 2:buy**"
      ]
    },
    {
      "cell_type": "code",
      "metadata": {
        "id": "N5EtsWmADX8h"
      },
      "source": [
        "df8=df6"
      ],
      "execution_count": 113,
      "outputs": []
    },
    {
      "cell_type": "code",
      "metadata": {
        "id": "9xANKHbELp06"
      },
      "source": [
        "df8=create_colums(df8,df6,5)"
      ],
      "execution_count": 114,
      "outputs": []
    },
    {
      "cell_type": "code",
      "metadata": {
        "colab": {
          "base_uri": "https://localhost:8080/",
          "height": 163
        },
        "id": "QqjzfAgqXfw1",
        "outputId": "e1b0afdc-e3c4-44fb-8160-d1054bd16d69"
      },
      "source": [
        "df6.head(3)"
      ],
      "execution_count": 115,
      "outputs": [
        {
          "output_type": "execute_result",
          "data": {
            "text/html": [
              "<div>\n",
              "<style scoped>\n",
              "    .dataframe tbody tr th:only-of-type {\n",
              "        vertical-align: middle;\n",
              "    }\n",
              "\n",
              "    .dataframe tbody tr th {\n",
              "        vertical-align: top;\n",
              "    }\n",
              "\n",
              "    .dataframe thead th {\n",
              "        text-align: right;\n",
              "    }\n",
              "</style>\n",
              "<table border=\"1\" class=\"dataframe\">\n",
              "  <thead>\n",
              "    <tr style=\"text-align: right;\">\n",
              "      <th></th>\n",
              "      <th>action</th>\n",
              "      <th>price</th>\n",
              "      <th>sma20</th>\n",
              "      <th>bb_up</th>\n",
              "      <th>bb_low</th>\n",
              "      <th>macd</th>\n",
              "      <th>macdsignal</th>\n",
              "      <th>macdhist</th>\n",
              "      <th>rsi9</th>\n",
              "      <th>rsi14</th>\n",
              "      <th>price_1</th>\n",
              "      <th>price_2</th>\n",
              "      <th>price_3</th>\n",
              "      <th>price_4</th>\n",
              "      <th>sma20_1</th>\n",
              "      <th>sma20_2</th>\n",
              "      <th>sma20_3</th>\n",
              "      <th>sma20_4</th>\n",
              "      <th>bb_up_1</th>\n",
              "      <th>bb_up_2</th>\n",
              "      <th>bb_up_3</th>\n",
              "      <th>bb_up_4</th>\n",
              "      <th>bb_low_1</th>\n",
              "      <th>bb_low_2</th>\n",
              "      <th>bb_low_3</th>\n",
              "      <th>bb_low_4</th>\n",
              "      <th>macd_1</th>\n",
              "      <th>macd_2</th>\n",
              "      <th>macd_3</th>\n",
              "      <th>macd_4</th>\n",
              "      <th>macdsignal_1</th>\n",
              "      <th>macdsignal_2</th>\n",
              "      <th>macdsignal_3</th>\n",
              "      <th>macdsignal_4</th>\n",
              "      <th>macdhist_1</th>\n",
              "      <th>macdhist_2</th>\n",
              "      <th>macdhist_3</th>\n",
              "      <th>macdhist_4</th>\n",
              "      <th>rsi9_1</th>\n",
              "      <th>rsi9_2</th>\n",
              "      <th>rsi9_3</th>\n",
              "      <th>rsi9_4</th>\n",
              "      <th>rsi14_1</th>\n",
              "      <th>rsi14_2</th>\n",
              "      <th>rsi14_3</th>\n",
              "      <th>rsi14_4</th>\n",
              "    </tr>\n",
              "  </thead>\n",
              "  <tbody>\n",
              "    <tr>\n",
              "      <th>0</th>\n",
              "      <td>1</td>\n",
              "      <td>44654.39</td>\n",
              "      <td>45350.6455</td>\n",
              "      <td>46531.145587</td>\n",
              "      <td>44170.145413</td>\n",
              "      <td>-212.402074</td>\n",
              "      <td>-142.232396</td>\n",
              "      <td>-70.169679</td>\n",
              "      <td>25.696322</td>\n",
              "      <td>31.249201</td>\n",
              "      <td>NaN</td>\n",
              "      <td>NaN</td>\n",
              "      <td>NaN</td>\n",
              "      <td>NaN</td>\n",
              "      <td>NaN</td>\n",
              "      <td>NaN</td>\n",
              "      <td>NaN</td>\n",
              "      <td>NaN</td>\n",
              "      <td>NaN</td>\n",
              "      <td>NaN</td>\n",
              "      <td>NaN</td>\n",
              "      <td>NaN</td>\n",
              "      <td>NaN</td>\n",
              "      <td>NaN</td>\n",
              "      <td>NaN</td>\n",
              "      <td>NaN</td>\n",
              "      <td>NaN</td>\n",
              "      <td>NaN</td>\n",
              "      <td>NaN</td>\n",
              "      <td>NaN</td>\n",
              "      <td>NaN</td>\n",
              "      <td>NaN</td>\n",
              "      <td>NaN</td>\n",
              "      <td>NaN</td>\n",
              "      <td>NaN</td>\n",
              "      <td>NaN</td>\n",
              "      <td>NaN</td>\n",
              "      <td>NaN</td>\n",
              "      <td>NaN</td>\n",
              "      <td>NaN</td>\n",
              "      <td>NaN</td>\n",
              "      <td>NaN</td>\n",
              "      <td>NaN</td>\n",
              "      <td>NaN</td>\n",
              "      <td>NaN</td>\n",
              "      <td>NaN</td>\n",
              "    </tr>\n",
              "    <tr>\n",
              "      <th>1</th>\n",
              "      <td>2</td>\n",
              "      <td>44529.61</td>\n",
              "      <td>45298.9325</td>\n",
              "      <td>46584.388807</td>\n",
              "      <td>44013.476193</td>\n",
              "      <td>-242.260572</td>\n",
              "      <td>-162.238031</td>\n",
              "      <td>-80.022541</td>\n",
              "      <td>23.061477</td>\n",
              "      <td>29.271623</td>\n",
              "      <td>44654.39</td>\n",
              "      <td>NaN</td>\n",
              "      <td>NaN</td>\n",
              "      <td>NaN</td>\n",
              "      <td>45350.6455</td>\n",
              "      <td>NaN</td>\n",
              "      <td>NaN</td>\n",
              "      <td>NaN</td>\n",
              "      <td>46531.145587</td>\n",
              "      <td>NaN</td>\n",
              "      <td>NaN</td>\n",
              "      <td>NaN</td>\n",
              "      <td>44170.145413</td>\n",
              "      <td>NaN</td>\n",
              "      <td>NaN</td>\n",
              "      <td>NaN</td>\n",
              "      <td>-212.402074</td>\n",
              "      <td>NaN</td>\n",
              "      <td>NaN</td>\n",
              "      <td>NaN</td>\n",
              "      <td>-142.232396</td>\n",
              "      <td>NaN</td>\n",
              "      <td>NaN</td>\n",
              "      <td>NaN</td>\n",
              "      <td>-70.169679</td>\n",
              "      <td>NaN</td>\n",
              "      <td>NaN</td>\n",
              "      <td>NaN</td>\n",
              "      <td>25.696322</td>\n",
              "      <td>NaN</td>\n",
              "      <td>NaN</td>\n",
              "      <td>NaN</td>\n",
              "      <td>31.249201</td>\n",
              "      <td>NaN</td>\n",
              "      <td>NaN</td>\n",
              "      <td>NaN</td>\n",
              "    </tr>\n",
              "    <tr>\n",
              "      <th>2</th>\n",
              "      <td>2</td>\n",
              "      <td>44637.84</td>\n",
              "      <td>45262.3665</td>\n",
              "      <td>46616.919708</td>\n",
              "      <td>43907.813292</td>\n",
              "      <td>-254.259446</td>\n",
              "      <td>-180.642314</td>\n",
              "      <td>-73.617132</td>\n",
              "      <td>30.059392</td>\n",
              "      <td>33.219226</td>\n",
              "      <td>44529.61</td>\n",
              "      <td>44654.39</td>\n",
              "      <td>NaN</td>\n",
              "      <td>NaN</td>\n",
              "      <td>45298.9325</td>\n",
              "      <td>45350.6455</td>\n",
              "      <td>NaN</td>\n",
              "      <td>NaN</td>\n",
              "      <td>46584.388807</td>\n",
              "      <td>46531.145587</td>\n",
              "      <td>NaN</td>\n",
              "      <td>NaN</td>\n",
              "      <td>44013.476193</td>\n",
              "      <td>44170.145413</td>\n",
              "      <td>NaN</td>\n",
              "      <td>NaN</td>\n",
              "      <td>-242.260572</td>\n",
              "      <td>-212.402074</td>\n",
              "      <td>NaN</td>\n",
              "      <td>NaN</td>\n",
              "      <td>-162.238031</td>\n",
              "      <td>-142.232396</td>\n",
              "      <td>NaN</td>\n",
              "      <td>NaN</td>\n",
              "      <td>-80.022541</td>\n",
              "      <td>-70.169679</td>\n",
              "      <td>NaN</td>\n",
              "      <td>NaN</td>\n",
              "      <td>23.061477</td>\n",
              "      <td>25.696322</td>\n",
              "      <td>NaN</td>\n",
              "      <td>NaN</td>\n",
              "      <td>29.271623</td>\n",
              "      <td>31.249201</td>\n",
              "      <td>NaN</td>\n",
              "      <td>NaN</td>\n",
              "    </tr>\n",
              "  </tbody>\n",
              "</table>\n",
              "</div>"
            ],
            "text/plain": [
              "   action     price       sma20  ...    rsi14_2  rsi14_3  rsi14_4\n",
              "0       1  44654.39  45350.6455  ...        NaN      NaN      NaN\n",
              "1       2  44529.61  45298.9325  ...        NaN      NaN      NaN\n",
              "2       2  44637.84  45262.3665  ...  31.249201      NaN      NaN\n",
              "\n",
              "[3 rows x 46 columns]"
            ]
          },
          "metadata": {},
          "execution_count": 115
        }
      ]
    },
    {
      "cell_type": "code",
      "metadata": {
        "colab": {
          "base_uri": "https://localhost:8080/",
          "height": 163
        },
        "id": "az03xjOiSkL4",
        "outputId": "a63a74c2-662d-4630-e551-253e6f1d307f"
      },
      "source": [
        "df8.head(3)"
      ],
      "execution_count": 116,
      "outputs": [
        {
          "output_type": "execute_result",
          "data": {
            "text/html": [
              "<div>\n",
              "<style scoped>\n",
              "    .dataframe tbody tr th:only-of-type {\n",
              "        vertical-align: middle;\n",
              "    }\n",
              "\n",
              "    .dataframe tbody tr th {\n",
              "        vertical-align: top;\n",
              "    }\n",
              "\n",
              "    .dataframe thead th {\n",
              "        text-align: right;\n",
              "    }\n",
              "</style>\n",
              "<table border=\"1\" class=\"dataframe\">\n",
              "  <thead>\n",
              "    <tr style=\"text-align: right;\">\n",
              "      <th></th>\n",
              "      <th>action</th>\n",
              "      <th>price</th>\n",
              "      <th>sma20</th>\n",
              "      <th>bb_up</th>\n",
              "      <th>bb_low</th>\n",
              "      <th>macd</th>\n",
              "      <th>macdsignal</th>\n",
              "      <th>macdhist</th>\n",
              "      <th>rsi9</th>\n",
              "      <th>rsi14</th>\n",
              "      <th>price_1</th>\n",
              "      <th>price_2</th>\n",
              "      <th>price_3</th>\n",
              "      <th>price_4</th>\n",
              "      <th>sma20_1</th>\n",
              "      <th>sma20_2</th>\n",
              "      <th>sma20_3</th>\n",
              "      <th>sma20_4</th>\n",
              "      <th>bb_up_1</th>\n",
              "      <th>bb_up_2</th>\n",
              "      <th>bb_up_3</th>\n",
              "      <th>bb_up_4</th>\n",
              "      <th>bb_low_1</th>\n",
              "      <th>bb_low_2</th>\n",
              "      <th>bb_low_3</th>\n",
              "      <th>bb_low_4</th>\n",
              "      <th>macd_1</th>\n",
              "      <th>macd_2</th>\n",
              "      <th>macd_3</th>\n",
              "      <th>macd_4</th>\n",
              "      <th>macdsignal_1</th>\n",
              "      <th>macdsignal_2</th>\n",
              "      <th>macdsignal_3</th>\n",
              "      <th>macdsignal_4</th>\n",
              "      <th>macdhist_1</th>\n",
              "      <th>macdhist_2</th>\n",
              "      <th>macdhist_3</th>\n",
              "      <th>macdhist_4</th>\n",
              "      <th>rsi9_1</th>\n",
              "      <th>rsi9_2</th>\n",
              "      <th>rsi9_3</th>\n",
              "      <th>rsi9_4</th>\n",
              "      <th>rsi14_1</th>\n",
              "      <th>rsi14_2</th>\n",
              "      <th>rsi14_3</th>\n",
              "      <th>rsi14_4</th>\n",
              "    </tr>\n",
              "  </thead>\n",
              "  <tbody>\n",
              "    <tr>\n",
              "      <th>0</th>\n",
              "      <td>2</td>\n",
              "      <td>44522.05</td>\n",
              "      <td>45091.601</td>\n",
              "      <td>46422.785654</td>\n",
              "      <td>43760.416346</td>\n",
              "      <td>-268.968438</td>\n",
              "      <td>-221.230329</td>\n",
              "      <td>-47.738109</td>\n",
              "      <td>27.159618</td>\n",
              "      <td>31.298453</td>\n",
              "      <td>44659.13</td>\n",
              "      <td>44648.80</td>\n",
              "      <td>44637.84</td>\n",
              "      <td>44529.61</td>\n",
              "      <td>45167.9625</td>\n",
              "      <td>45215.3260</td>\n",
              "      <td>45262.3665</td>\n",
              "      <td>45298.9325</td>\n",
              "      <td>46577.329451</td>\n",
              "      <td>46606.770612</td>\n",
              "      <td>46616.919708</td>\n",
              "      <td>46584.388807</td>\n",
              "      <td>43758.595549</td>\n",
              "      <td>43823.881388</td>\n",
              "      <td>43907.813292</td>\n",
              "      <td>44013.476193</td>\n",
              "      <td>-260.512861</td>\n",
              "      <td>-259.888427</td>\n",
              "      <td>-254.259446</td>\n",
              "      <td>-242.260572</td>\n",
              "      <td>-209.295801</td>\n",
              "      <td>-196.491537</td>\n",
              "      <td>-180.642314</td>\n",
              "      <td>-162.238031</td>\n",
              "      <td>-51.217059</td>\n",
              "      <td>-63.396890</td>\n",
              "      <td>-73.617132</td>\n",
              "      <td>-80.022541</td>\n",
              "      <td>31.521343</td>\n",
              "      <td>30.776678</td>\n",
              "      <td>30.059392</td>\n",
              "      <td>23.061477</td>\n",
              "      <td>34.028367</td>\n",
              "      <td>33.623247</td>\n",
              "      <td>33.219226</td>\n",
              "      <td>29.271623</td>\n",
              "    </tr>\n",
              "    <tr>\n",
              "      <th>1</th>\n",
              "      <td>2</td>\n",
              "      <td>44639.12</td>\n",
              "      <td>45022.957</td>\n",
              "      <td>46223.193113</td>\n",
              "      <td>43822.720887</td>\n",
              "      <td>-263.189094</td>\n",
              "      <td>-229.622082</td>\n",
              "      <td>-33.567012</td>\n",
              "      <td>35.707142</td>\n",
              "      <td>36.019231</td>\n",
              "      <td>44522.05</td>\n",
              "      <td>44659.13</td>\n",
              "      <td>44648.80</td>\n",
              "      <td>44637.84</td>\n",
              "      <td>45091.6010</td>\n",
              "      <td>45167.9625</td>\n",
              "      <td>45215.3260</td>\n",
              "      <td>45262.3665</td>\n",
              "      <td>46422.785654</td>\n",
              "      <td>46577.329451</td>\n",
              "      <td>46606.770612</td>\n",
              "      <td>46616.919708</td>\n",
              "      <td>43760.416346</td>\n",
              "      <td>43758.595549</td>\n",
              "      <td>43823.881388</td>\n",
              "      <td>43907.813292</td>\n",
              "      <td>-268.968438</td>\n",
              "      <td>-260.512861</td>\n",
              "      <td>-259.888427</td>\n",
              "      <td>-254.259446</td>\n",
              "      <td>-221.230329</td>\n",
              "      <td>-209.295801</td>\n",
              "      <td>-196.491537</td>\n",
              "      <td>-180.642314</td>\n",
              "      <td>-47.738109</td>\n",
              "      <td>-51.217059</td>\n",
              "      <td>-63.396890</td>\n",
              "      <td>-73.617132</td>\n",
              "      <td>27.159618</td>\n",
              "      <td>31.521343</td>\n",
              "      <td>30.776678</td>\n",
              "      <td>30.059392</td>\n",
              "      <td>31.298453</td>\n",
              "      <td>34.028367</td>\n",
              "      <td>33.623247</td>\n",
              "      <td>33.219226</td>\n",
              "    </tr>\n",
              "    <tr>\n",
              "      <th>2</th>\n",
              "      <td>0</td>\n",
              "      <td>44754.09</td>\n",
              "      <td>44965.864</td>\n",
              "      <td>46015.057947</td>\n",
              "      <td>43916.670053</td>\n",
              "      <td>-246.490415</td>\n",
              "      <td>-232.995748</td>\n",
              "      <td>-13.494667</td>\n",
              "      <td>43.085842</td>\n",
              "      <td>40.353870</td>\n",
              "      <td>44639.12</td>\n",
              "      <td>44522.05</td>\n",
              "      <td>44659.13</td>\n",
              "      <td>44648.80</td>\n",
              "      <td>45022.9570</td>\n",
              "      <td>45091.6010</td>\n",
              "      <td>45167.9625</td>\n",
              "      <td>45215.3260</td>\n",
              "      <td>46223.193113</td>\n",
              "      <td>46422.785654</td>\n",
              "      <td>46577.329451</td>\n",
              "      <td>46606.770612</td>\n",
              "      <td>43822.720887</td>\n",
              "      <td>43760.416346</td>\n",
              "      <td>43758.595549</td>\n",
              "      <td>43823.881388</td>\n",
              "      <td>-263.189094</td>\n",
              "      <td>-268.968438</td>\n",
              "      <td>-260.512861</td>\n",
              "      <td>-259.888427</td>\n",
              "      <td>-229.622082</td>\n",
              "      <td>-221.230329</td>\n",
              "      <td>-209.295801</td>\n",
              "      <td>-196.491537</td>\n",
              "      <td>-33.567012</td>\n",
              "      <td>-47.738109</td>\n",
              "      <td>-51.217059</td>\n",
              "      <td>-63.396890</td>\n",
              "      <td>35.707142</td>\n",
              "      <td>27.159618</td>\n",
              "      <td>31.521343</td>\n",
              "      <td>30.776678</td>\n",
              "      <td>36.019231</td>\n",
              "      <td>31.298453</td>\n",
              "      <td>34.028367</td>\n",
              "      <td>33.623247</td>\n",
              "    </tr>\n",
              "  </tbody>\n",
              "</table>\n",
              "</div>"
            ],
            "text/plain": [
              "   action     price      sma20  ...    rsi14_2    rsi14_3    rsi14_4\n",
              "0       2  44522.05  45091.601  ...  33.623247  33.219226  29.271623\n",
              "1       2  44639.12  45022.957  ...  34.028367  33.623247  33.219226\n",
              "2       0  44754.09  44965.864  ...  31.298453  34.028367  33.623247\n",
              "\n",
              "[3 rows x 46 columns]"
            ]
          },
          "metadata": {},
          "execution_count": 116
        }
      ]
    },
    {
      "cell_type": "code",
      "metadata": {
        "colab": {
          "base_uri": "https://localhost:8080/"
        },
        "id": "mzMLnsT9llPv",
        "outputId": "bdcd9c31-e4b2-4a59-92c2-b80a6ca11345"
      },
      "source": [
        "df8['action'].value_counts()"
      ],
      "execution_count": 117,
      "outputs": [
        {
          "output_type": "execute_result",
          "data": {
            "text/plain": [
              "1    2840\n",
              "2    2750\n",
              "0     369\n",
              "Name: action, dtype: int64"
            ]
          },
          "metadata": {},
          "execution_count": 117
        }
      ]
    },
    {
      "cell_type": "code",
      "metadata": {
        "id": "Xsha2YsdPqwt"
      },
      "source": [
        "x=df8.iloc[:,1:].reset_index(drop=True)\n",
        "y=df8.iloc[:,0:1].reset_index(drop=True)\n",
        "x_train,x_test,y_train,y_test=train_test_split(x,y,test_size=0.2,shuffle=False)\n",
        "lgb_train=lgb.Dataset(x_train,y_train)\n",
        "lgb_test=lgb.Dataset(x_test,y_test,reference=lgb_train)\n",
        "param={\n",
        "    'task': 'train',\n",
        "    'boosting_type': 'gbdt',\n",
        "    'objective': 'multiclass',\n",
        "    'num_class': 3,\n",
        "    'metric': 'multi_error', \n",
        "}\n",
        "best=lgb.train(param,\n",
        "              lgb_train,\n",
        "              valid_sets=lgb_test,\n",
        "              early_stopping_rounds=500)\n",
        "print(best.params)\n",
        "print(best.best_iteration)\n",
        "print(best.best_score)"
      ],
      "execution_count": null,
      "outputs": []
    },
    {
      "cell_type": "code",
      "metadata": {
        "colab": {
          "base_uri": "https://localhost:8080/"
        },
        "id": "zJeFs5vz6nD3",
        "outputId": "4786ba4c-56b9-42e5-e4a2-c9ecad8f17d9"
      },
      "source": [
        "predict=best.predict(x_test,num_iteration=best.best_iteration)\n",
        "test=y_test.values.tolist()\n",
        "check=[]\n",
        "#testデータで精度の確認\n",
        "for i in range(len(x_test)):\n",
        "  if predict[i][0]>predict[i][1]:\n",
        "    if predict[i][0]>predict[i][2]:\n",
        "      check.append(0)\n",
        "    else:\n",
        "      check.append(2)\n",
        "  else:\n",
        "    if predict[i][1]>predict[i][2]:\n",
        "      check.append(1)\n",
        "    else:\n",
        "      check.append(2)\n",
        "answer=[]\n",
        "for i in range(len(y_test)):\n",
        "  if test[i][0]==0:\n",
        "    answer.append(0)\n",
        "    continue\n",
        "  elif test[i][0]==1:\n",
        "    answer.append(1)\n",
        "    continue\n",
        "  elif test[i][0]==2:\n",
        "    answer.append(2)\n",
        "game=[]\n",
        "for i in range(len(answer)):\n",
        "  if answer[i]==check[i]:\n",
        "    game.append('win')\n",
        "  else:\n",
        "    game.append('lose')\n",
        "print('予測とテストデータの一致した数:'+str(game.count('win')))\n",
        "print('予測とテストデータの外した数:'+str(game.count('lose')))\n",
        "print('stayを予測した数:'+str(check.count(0))+' sellを予測した数:'+str(check.count(1))+' buyを予測した数:'+str(check.count(2)))\n",
        "print('実際のstayの数:'+str(answer.count(0))+'実際のsellの数:'+str(answer.count(1))+'実際のbuyの数:'+str(answer.count(2)))"
      ],
      "execution_count": 120,
      "outputs": [
        {
          "output_type": "stream",
          "name": "stdout",
          "text": [
            "予測とテストデータの一致した数:609\n",
            "予測とテストデータの外した数:583\n",
            "stayを予測した数:0 sellを予測した数:514 buyを予測した数:678\n",
            "実際のstayの数:76実際のsellの数:614実際のbuyの数:502\n"
          ]
        }
      ]
    },
    {
      "cell_type": "code",
      "metadata": {
        "colab": {
          "base_uri": "https://localhost:8080/",
          "height": 295
        },
        "id": "HrO3Xf3P67ND",
        "outputId": "3b1e11f9-e806-4948-fa55-341145bae8d0"
      },
      "source": [
        "#シミュレーションを行う\n",
        "money=[0]\n",
        "profit=0\n",
        "#haveはエントリーしていない、エントリーしている（sellは1,buyは2)を指す。\n",
        "have=0\n",
        "data=0\n",
        "for i in range(len(ans)):\n",
        "  #もっていない状態\n",
        "  if have==0:\n",
        "    #どういう行動を起こすか\n",
        "    #stayなのでエントリーは行わない。\n",
        "    if check[i]==0:\n",
        "      continue\n",
        "    #buyなのでbuyでエントリー\n",
        "    if check[i]==2:\n",
        "      have=2\n",
        "      data=i\n",
        "      continue\n",
        "    #sellなのでsellでエントリー\n",
        "    if check[i]==1:\n",
        "      have=1\n",
        "      data=i\n",
        "      continue\n",
        "  #sellでエントリーしている場合\n",
        "  if have==1:\n",
        "    #もし次がstayかsellだと予測した場合は保有\n",
        "    if (check[i]==0 or check[i]==1):\n",
        "      continue\n",
        "    #もし次がbuyだと予測した場合は決済を行う\n",
        "    if check[i]==2:\n",
        "      profit+=price[data]-price[i]\n",
        "      money.append(profit)\n",
        "      have=0\n",
        "      continue\n",
        "  #buyでエントリーしている場合\n",
        "  if have==2:\n",
        "    #もし次がstayかbuyだと予測した場合は保有を行う\n",
        "    if (check[i]==0 or check[i]==2):\n",
        "      continue\n",
        "    #もし次がsellだと予測した場合は決済を行う\n",
        "    if check[i]==1:\n",
        "      profit+=price[i]-price[data]\n",
        "      money.append(profit)\n",
        "      have=0\n",
        "      continue\n",
        "\n",
        "plt.plot(money)\n",
        "plt.title('lightgbm+optuna stay or sell or buy 5daysdata')\n",
        "plt.xlabel('time')\n",
        "plt.ylabel('money')\n",
        "plt.savefig('/content6.png')\n",
        "plt.show()"
      ],
      "execution_count": 121,
      "outputs": [
        {
          "output_type": "display_data",
          "data": {
            "image/png": "[encoded data removed]",
            "text/plain": [
              "<Figure size 432x288 with 1 Axes>"
            ]
          },
          "metadata": {
            "needs_background": "light"
          }
        }
      ]
    }
  ]
}